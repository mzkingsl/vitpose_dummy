{
 "cells": [
  {
   "cell_type": "markdown",
   "metadata": {
    "id": "x4HI2mpwlrcn"
   },
   "source": [
    "##### Copyright 2019 The TensorFlow Authors."
   ]
  },
  {
   "cell_type": "markdown",
   "metadata": {
    "id": "DSPCom-KmApV"
   },
   "source": [
    "# Convolutional Neural Network (CNN)"
   ]
  },
  {
   "cell_type": "code",
   "execution_count": 26,
   "metadata": {},
   "outputs": [],
   "source": [
    "import cv2\n",
    "import numpy as np\n",
    "import pandas as pd \n",
    "import json\n",
    "import glob\n",
    "import os\n",
    "from PIL import Image\n",
    "import scipy"
   ]
  },
  {
   "cell_type": "code",
   "execution_count": 27,
   "metadata": {},
   "outputs": [],
   "source": [
    "import tensorflow as tf\n",
    "from tensorflow.keras import datasets, layers, models, optimizers\n",
    "import matplotlib.pyplot as plt\n",
    "from sklearn.model_selection import LeaveOneOut,KFold\n",
    "import tensorflow_hub as hub\n"
   ]
  },
  {
   "cell_type": "code",
   "execution_count": 28,
   "metadata": {
    "execution": {
     "iopub.execute_input": "2022-01-26T05:11:32.261134Z",
     "iopub.status.busy": "2022-01-26T05:11:32.260310Z",
     "iopub.status.idle": "2022-01-26T05:11:34.742110Z",
     "shell.execute_reply": "2022-01-26T05:11:34.741254Z"
    },
    "id": "iAve6DCL4JH4"
   },
   "outputs": [],
   "source": [
    "from tensorflow.keras.preprocessing.image import ImageDataGenerator\n",
    "from tensorflow.keras.preprocessing import image\n",
    "from sklearn.model_selection import cross_val_score\n"
   ]
  },
  {
   "cell_type": "code",
   "execution_count": 29,
   "metadata": {},
   "outputs": [],
   "source": [
    "# import images\n",
    "#change user\n",
    "# path = \"C:\\\\Users\\\\amart50\\\\Documents\\\\Lifting data\\\\Data\"\n",
    "path ='C:\\\\Users\\\\amart50\\\\Desktop\\\\CNN_test\\\\data'\n",
    "deadlift = path + \"\\\\Deadlift\"\n",
    "bench = path + \"\\\\Bench\"\n",
    "squats = path + \"\\\\Squat\""
   ]
  },
  {
   "cell_type": "code",
   "execution_count": 30,
   "metadata": {},
   "outputs": [],
   "source": [
    "# # Convert deadlift to jpg\n",
    "# pos_paths_list = [deadlift, bench, squats]\n",
    "\n",
    "# for pos_paths in pos_paths_list:\n",
    "#     for file in os.listdir(pos_paths):\n",
    "#         # check the files which are end with specific extension\n",
    "#         if file.endswith(\".png\"):\n",
    "#             # print path name of selected files\n",
    "#             file_path = os.path.join(pos_paths, file)\n",
    "#             # print(file_path)\n",
    "#             im = Image.open(file_path)\n",
    "#             new_name = file.split(\".\")[0] + \".jpg\"\n",
    "#             # im.save(new_name)\n",
    "#             Image.open(file_path).convert('RGB').save(pos_paths+\"\\\\\"+new_name)\n",
    "\n",
    "\n",
    "#     for file in os.listdir(pos_paths):\n",
    "#         # check the files which are end with specific extension\n",
    "#         if file.endswith(\".jpeg\"):\n",
    "#             # print path name of selected files\n",
    "#             file_path = os.path.join(pos_paths, file)\n",
    "#             # print(file_path)\n",
    "#             im = Image.open(file_path)\n",
    "#             new_name = file.split(\".\")[0] + \".jpg\"\n",
    "#             # im.save(new_name)\n",
    "#             Image.open(file_path).convert('RGB').save(pos_paths+\"\\\\\"+new_name)\n"
   ]
  },
  {
   "cell_type": "code",
   "execution_count": 31,
   "metadata": {},
   "outputs": [],
   "source": [
    "# # check\n",
    "# im = image.load_img(bench+\"\\\\1.jpg\")\n",
    "# plt.imshow(im)\n",
    "# # np.max( cv2.imread(bench+\"\\\\99.jpg\").flatten() )\n",
    "# cv2.imread(bench+\"\\\\99.jpg\").shape"
   ]
  },
  {
   "cell_type": "code",
   "execution_count": 33,
   "metadata": {},
   "outputs": [
    {
     "name": "stdout",
     "output_type": "stream",
     "text": [
      "Found 841 images belonging to 3 classes.\n",
      "Found 209 images belonging to 3 classes.\n"
     ]
    }
   ],
   "source": [
    "# normalise the pixel values\n",
    "train_ = ImageDataGenerator(validation_split = .2, rescale=1./255)\n",
    "TRAIN_DIR = path\n",
    "\n",
    "\n",
    "train_dataset = train_.flow_from_directory(\n",
    "    TRAIN_DIR,\n",
    "    target_size = (224, 224),\n",
    "    subset='training',\n",
    "    batch_size = 10,\n",
    "    class_mode='categorical'\n",
    ")\n",
    "\n",
    "validation_dataset = train_.flow_from_directory(\n",
    "    TRAIN_DIR,\n",
    "    target_size = (224, 224),\n",
    "    subset='validation',\n",
    "    class_mode='categorical',\n",
    "    batch_size = 10,\n",
    ")"
   ]
  },
  {
   "cell_type": "code",
   "execution_count": 34,
   "metadata": {},
   "outputs": [],
   "source": [
    "# train_dataset.shape\n",
    "mobilenet_v2 = \"https://tfhub.dev/google/tf2-preview/mobilenet_v2/feature_vector/4\"\n",
    "feature_extractor_model = mobilenet_v2\n",
    "feature_extractor_layer = hub.KerasLayer(\n",
    "    feature_extractor_model,\n",
    "    input_shape=(224, 224, 3),\n",
    "    trainable=False)\n"
   ]
  },
  {
   "cell_type": "code",
   "execution_count": 35,
   "metadata": {},
   "outputs": [],
   "source": [
    "num_classes = 3\n",
    "\n",
    "model = tf.keras.models.Sequential([\n",
    "#   tf.keras.layers.Rescaling(1./255),\n",
    "feature_extractor_layer,\n",
    "# tf.keras.layers.Conv2D(16, (3,3), input_shape=(256,256,3), activation='relu'),\n",
    "# tf.keras.layers.MaxPooling2D(2,2),\n",
    "\n",
    "# tf.keras.layers.Conv2D(32, (3,3), activation='relu'),\n",
    "# tf.keras.layers.MaxPooling2D(2,2),\n",
    "\n",
    "# tf.keras.layers.Conv2D(64, (3,3), activation='relu'),\n",
    "# tf.keras.layers.MaxPooling2D(2,2),\n",
    "\n",
    "# tf.keras.layers.Conv2D(128, (3,3), activation='relu'),\n",
    "# tf.keras.layers.MaxPooling2D(2,2),\n",
    "\n",
    "# tf.keras.layers.Flatten(),\n",
    "# tf.keras.layers.Dense(128*4, activation='relu'),\n",
    "tf.keras.layers.Dense(num_classes, activation='softmax')\n",
    "])"
   ]
  },
  {
   "cell_type": "code",
   "execution_count": 36,
   "metadata": {},
   "outputs": [],
   "source": [
    "# source: https://stackoverflow.com/questions/57301698/how-to-change-a-learning-rate-for-adam-in-tf2\n",
    "# to reduce lr each run\n",
    "# model.fit(x_train, y_train, callbacks=[LearningRateReducerCb()], epochs=5)\n",
    "class LearningRateReducerCb(tf.keras.callbacks.Callback):\n",
    "\n",
    "  def on_epoch_end(self, epoch, logs={}):\n",
    "    old_lr = self.model.optimizer.lr.read_value()\n",
    "    new_lr = old_lr * 0.99\n",
    "    print(\"\\nEpoch: {}. Reducing Learning Rate from {} to {}\".format(epoch, old_lr, new_lr))\n",
    "    self.model.optimizer.lr.assign(new_lr)"
   ]
  },
  {
   "cell_type": "code",
   "execution_count": 37,
   "metadata": {},
   "outputs": [],
   "source": [
    "model.compile(loss='categorical_crossentropy', optimizer='adam', metrics=['accuracy'])\n",
    "kfold = KFold(n_splits=10, shuffle=True)"
   ]
  },
  {
   "cell_type": "code",
   "execution_count": 38,
   "metadata": {},
   "outputs": [
    {
     "name": "stdout",
     "output_type": "stream",
     "text": [
      "Model: \"sequential_1\"\n",
      "_________________________________________________________________\n",
      " Layer (type)                Output Shape              Param #   \n",
      "=================================================================\n",
      " keras_layer_1 (KerasLayer)  (None, 1280)              2257984   \n",
      "                                                                 \n",
      " dense_1 (Dense)             (None, 3)                 3843      \n",
      "                                                                 \n",
      "=================================================================\n",
      "Total params: 2,261,827\n",
      "Trainable params: 3,843\n",
      "Non-trainable params: 2,257,984\n",
      "_________________________________________________________________\n"
     ]
    }
   ],
   "source": [
    "# model_fit = model.fit(train_dataset, epochs=5)\n",
    "model.summary()\n"
   ]
  },
  {
   "cell_type": "code",
   "execution_count": 39,
   "metadata": {},
   "outputs": [
    {
     "name": "stdout",
     "output_type": "stream",
     "text": [
      "Epoch 1/10\n",
      "85/85 [==============================] - 21s 206ms/step - loss: 0.8532 - accuracy: 0.6219 - val_loss: 0.5672 - val_accuracy: 0.7990\n",
      "Epoch 2/10\n",
      "85/85 [==============================] - 17s 199ms/step - loss: 0.4628 - accuracy: 0.8478 - val_loss: 0.4723 - val_accuracy: 0.8373\n",
      "Epoch 3/10\n",
      "85/85 [==============================] - 17s 193ms/step - loss: 0.3474 - accuracy: 0.8894 - val_loss: 0.4304 - val_accuracy: 0.8469\n",
      "Epoch 4/10\n",
      "85/85 [==============================] - 17s 197ms/step - loss: 0.2664 - accuracy: 0.9263 - val_loss: 0.3748 - val_accuracy: 0.8565\n",
      "Epoch 5/10\n",
      "85/85 [==============================] - 16s 193ms/step - loss: 0.2219 - accuracy: 0.9512 - val_loss: 0.3594 - val_accuracy: 0.8612\n",
      "Epoch 6/10\n",
      "85/85 [==============================] - 17s 195ms/step - loss: 0.1819 - accuracy: 0.9584 - val_loss: 0.3152 - val_accuracy: 0.8852\n",
      "Epoch 7/10\n",
      "85/85 [==============================] - 17s 196ms/step - loss: 0.1593 - accuracy: 0.9655 - val_loss: 0.3787 - val_accuracy: 0.8612\n",
      "Epoch 8/10\n",
      "85/85 [==============================] - 17s 194ms/step - loss: 0.1384 - accuracy: 0.9774 - val_loss: 0.3652 - val_accuracy: 0.8612\n",
      "Epoch 9/10\n",
      "85/85 [==============================] - 17s 195ms/step - loss: 0.1187 - accuracy: 0.9834 - val_loss: 0.3515 - val_accuracy: 0.8660\n",
      "Epoch 10/10\n",
      "85/85 [==============================] - 17s 194ms/step - loss: 0.1086 - accuracy: 0.9869 - val_loss: 0.3939 - val_accuracy: 0.8708\n"
     ]
    }
   ],
   "source": [
    "epochs=10\n",
    "history = model.fit(\n",
    "  train_dataset,\n",
    "  validation_data=validation_dataset,\n",
    "  epochs=epochs\n",
    ")"
   ]
  },
  {
   "cell_type": "code",
   "execution_count": 41,
   "metadata": {},
   "outputs": [
    {
     "name": "stdout",
     "output_type": "stream",
     "text": [
      "21/21 [==============================] - 3s 156ms/step - loss: 0.3939 - accuracy: 0.8708\n"
     ]
    },
    {
     "data": {
      "text/plain": [
       "[0.39388173818588257, 0.8708133697509766]"
      ]
     },
     "execution_count": 41,
     "metadata": {},
     "output_type": "execute_result"
    }
   ],
   "source": [
    "# model.fit(x_train, y_train, callbacks=[LearningRateReducerCb()], epochs=5)\n",
    "model.evaluate(validation_dataset)"
   ]
  },
  {
   "cell_type": "code",
   "execution_count": 42,
   "metadata": {},
   "outputs": [
    {
     "data": {
      "image/png": "[encoded data removed]",
      "text/plain": [
       "<Figure size 432x288 with 1 Axes>"
      ]
     },
     "metadata": {
      "needs_background": "light"
     },
     "output_type": "display_data"
    }
   ],
   "source": [
    "plt.plot(history.history['accuracy'])\n",
    "plt.plot(history.history['val_accuracy'])\n",
    "plt.title('model accuracy')\n",
    "# plt.scale()\n",
    "plt.ylim([0,1.1])\n",
    "plt.ylabel('accuracy')\n",
    "plt.xlabel('epoch')\n",
    "plt.legend(['train', 'val'], loc='upper left')\n",
    "plt.show()"
   ]
  },
  {
   "cell_type": "code",
   "execution_count": 43,
   "metadata": {},
   "outputs": [],
   "source": [
    "tf.keras.models.save_model(model,'my_model.hdf5')"
   ]
  },
  {
   "cell_type": "code",
   "execution_count": 47,
   "metadata": {},
   "outputs": [
    {
     "name": "stdout",
     "output_type": "stream",
     "text": [
      "1/1 [==============================] - 1s 577ms/step\n"
     ]
    }
   ],
   "source": [
    "image = cv2.imread(\"C:\\\\Users\\\\amart50\\\\Downloads\\\\test.jpg\")\n",
    "image = tf.image.resize(image, (224, 224))  # Resize the image\n",
    "image = tf.keras.applications.mobilenet_v2.preprocess_input(image)  # Pre-process the image for the model\n",
    "image = image[None, ...]  # Add a batch dimension to the image\n",
    "\n",
    "# Use the model to classify the image\n",
    "predictions = model.predict(image)"
   ]
  },
  {
   "cell_type": "code",
   "execution_count": 58,
   "metadata": {},
   "outputs": [
    {
     "data": {
      "text/plain": [
       "array([9.1010571e-01, 7.3406508e-04, 8.9160256e-02], dtype=float32)"
      ]
     },
     "execution_count": 58,
     "metadata": {},
     "output_type": "execute_result"
    }
   ],
   "source": [
    "predictions[0]"
   ]
  },
  {
   "cell_type": "code",
   "execution_count": 62,
   "metadata": {},
   "outputs": [
    {
     "data": {
      "text/plain": [
       "<tf.Tensor: shape=(), dtype=float32, numpy=0.54265463>"
      ]
     },
     "execution_count": 62,
     "metadata": {},
     "output_type": "execute_result"
    }
   ],
   "source": [
    "tf.nn.softmax(predictions)[0, tf.argmax(predictions[0])]"
   ]
  },
  {
   "cell_type": "code",
   "execution_count": 68,
   "metadata": {},
   "outputs": [
    {
     "data": {
      "text/plain": [
       "<tf.Tensor: shape=(), dtype=int64, numpy=1>"
      ]
     },
     "execution_count": 68,
     "metadata": {},
     "output_type": "execute_result"
    }
   ],
   "source": [
    "f = tf.argmax([1,2], axis = 0)\n",
    "f"
   ]
  },
  {
   "cell_type": "code",
   "execution_count": 40,
   "metadata": {},
   "outputs": [],
   "source": [
    "\n",
    "# # Define a function to create the model\n",
    "# def create_model():\n",
    "#   # Build the model\n",
    "#   model = tf.keras.models.Sequential([\n",
    "#     tf.keras.layers.Conv2D(32, (3, 3), activation='relu', input_shape=(32, 32, 3)),\n",
    "#     tf.keras.layers.MaxPooling2D((2, 2)),\n",
    "#     tf.keras.layers.Conv2D(64, (3, 3), activation='relu'),\n",
    "#     tf.keras.layers.MaxPooling2D((2, 2)),\n",
    "#     tf.keras.layers.Flatten(),\n",
    "#     tf.keras.layers.Dense(64, activation='relu'),\n",
    "#     tf.keras.layers.Dense(10, activation='softmax')\n",
    "#   ])\n",
    "\n",
    "#   # Compile the model\n",
    "#   model.compile(\n",
    "#     optimizer='adam',\n",
    "#     loss='sparse_categorical_crossentropy',\n",
    "#     metrics=['accuracy']\n",
    "#   )\n",
    "\n",
    "#   return model\n",
    "\n",
    "# # Load the data\n",
    "# (x_train, y_train), (x_test, y_test) = tf.keras.datasets.cifar10.load_data()\n",
    "\n",
    "# # Create a list of k models\n",
    "# k = 5\n",
    "# models = [create_model() for _ in range(k)]\n",
    "\n",
    "# # Define a function to evaluate the models\n",
    "# def evaluate_model(model, x, y):\n",
    "#   # Evaluate the model on the provided data\n",
    "#   return model.evaluate(x, y, verbose=0)\n",
    "\n",
    "# # Define a function to perform k-fold cross validation\n",
    "# def k_fold_cross_validation(k, x, y, evaluate_model):\n",
    "#   # Create a list to store the scores for each fold\n",
    "#   scores = []\n",
    "\n",
    "#   # Use the length of x as the number of samples\n",
    "#   num_samples = len(x)\n",
    "\n",
    "#   # Split the data into k folds\n",
    "#   folds = tf.split(x, num_or_size_splits=k)\n",
    "\n",
    "#   # Loop over the folds\n",
    "#   for i, fold in enumerate(folds):\n",
    "#     # Create the training and validation sets for this fold\n",
    "#     x_train = tf.concat(folds[:i] + folds[i+1:], axis=0)\n",
    "#     y_train = tf.concat(y[:i*num_samples//k] + y[(i+1)*num_samples//k:], axis=0)\n",
    "#     x_val = fold\n",
    "#     # y_val = y[i*num_samples//k:(i+1)*num_samples//k]\n",
    "\n",
    "#     # Train the model on the training data\n",
    "#     models[i].fit(x_train, y_train, epochs=10, verbose=0)\n",
    "\n",
    "#     # Evaluate the model on the validation data\n",
    "#     scores.append(evaluate_model(models[i], x_val, y_val))\n",
    "\n",
    "#   return scores\n",
    "\n",
    "# # Perform k-fold cross validation\n",
    "# scores = k_fold_cross_validation(k, x_train, y_train, evaluate_"
   ]
  },
  {
   "cell_type": "code",
   "execution_count": null,
   "metadata": {},
   "outputs": [],
   "source": []
  },
  {
   "cell_type": "code",
   "execution_count": null,
   "metadata": {},
   "outputs": [],
   "source": []
  },
  {
   "cell_type": "code",
   "execution_count": null,
   "metadata": {},
   "outputs": [],
   "source": []
  },
  {
   "cell_type": "code",
   "execution_count": null,
   "metadata": {},
   "outputs": [],
   "source": []
  },
  {
   "cell_type": "code",
   "execution_count": null,
   "metadata": {},
   "outputs": [],
   "source": []
  },
  {
   "cell_type": "code",
   "execution_count": null,
   "metadata": {},
   "outputs": [],
   "source": []
  }
 ],
 "metadata": {
  "accelerator": "GPU",
  "colab": {
   "collapsed_sections": [],
   "name": "cnn.ipynb",
   "toc_visible": true
  },
  "kernelspec": {
   "display_name": "Python 3.9.12 ('base')",
   "language": "python",
   "name": "python3"
  },
  "language_info": {
   "codemirror_mode": {
    "name": "ipython",
    "version": 3
   },
   "file_extension": ".py",
   "mimetype": "text/x-python",
   "name": "python",
   "nbconvert_exporter": "python",
   "pygments_lexer": "ipython3",
   "version": "3.9.12"
  },
  "vscode": {
   "interpreter": {
    "hash": "ad2bdc8ecc057115af97d19610ffacc2b4e99fae6737bb82f5d7fb13d2f2c186"
   }
  }
 },
 "nbformat": 4,
 "nbformat_minor": 0
}
