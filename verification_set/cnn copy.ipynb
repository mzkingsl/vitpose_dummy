{
 "cells": [
  {
   "cell_type": "markdown",
   "metadata": {
    "id": "x4HI2mpwlrcn"
   },
   "source": [
    "##### Copyright 2019 The TensorFlow Authors."
   ]
  },
  {
   "cell_type": "markdown",
   "metadata": {
    "id": "DSPCom-KmApV"
   },
   "source": [
    "# Convolutional Neural Network (CNN)"
   ]
  },
  {
   "cell_type": "code",
   "execution_count": 84,
   "metadata": {},
   "outputs": [],
   "source": [
    "import cv2\n",
    "import numpy as np\n",
    "import pandas as pd \n",
    "import json\n",
    "import glob\n",
    "import os\n",
    "from PIL import Image\n",
    "import scipy"
   ]
  },
  {
   "cell_type": "code",
   "execution_count": 85,
   "metadata": {},
   "outputs": [],
   "source": [
    "import tensorflow as tf\n",
    "from tensorflow.keras import datasets, layers, models, optimizers\n",
    "import matplotlib.pyplot as plt\n",
    "from sklearn.model_selection import LeaveOneOut,KFold\n",
    "import tensorflow_hub as hub\n"
   ]
  },
  {
   "cell_type": "code",
   "execution_count": 86,
   "metadata": {
    "execution": {
     "iopub.execute_input": "2022-01-26T05:11:32.261134Z",
     "iopub.status.busy": "2022-01-26T05:11:32.260310Z",
     "iopub.status.idle": "2022-01-26T05:11:34.742110Z",
     "shell.execute_reply": "2022-01-26T05:11:34.741254Z"
    },
    "id": "iAve6DCL4JH4"
   },
   "outputs": [],
   "source": [
    "from tensorflow.keras.preprocessing.image import ImageDataGenerator\n",
    "from tensorflow.keras.preprocessing import image\n",
    "from sklearn.model_selection import cross_val_score\n"
   ]
  },
  {
   "cell_type": "code",
   "execution_count": 87,
   "metadata": {},
   "outputs": [],
   "source": [
    "# import images\n",
    "#change user\n",
    "path = \"C:\\\\Users\\\\mkingsl6\\\\Desktop\\\\clean_data\"\n",
    "# path ='C:\\\\Users\\\\amart50\\\\Desktop\\\\CNN_test\\\\data'\n",
    "deadlift = path + \"\\\\Deadlift\"\n",
    "bench = path + \"\\\\Bench\"\n",
    "squats = path + \"\\\\Squat\""
   ]
  },
  {
   "cell_type": "code",
   "execution_count": 5,
   "metadata": {},
   "outputs": [
    {
     "name": "stdout",
     "output_type": "stream",
     "text": [
      "Found 248 images belonging to 3 classes.\n",
      "Found 62 images belonging to 3 classes.\n"
     ]
    }
   ],
   "source": [
    "# normalise the pixel values\n",
    "train_ = ImageDataGenerator(validation_split = .2, rescale=1./255)\n",
    "TRAIN_DIR = path\n",
    "\n",
    "\n",
    "train_dataset = train_.flow_from_directory(\n",
    "    TRAIN_DIR,\n",
    "    target_size = (224, 224),\n",
    "    subset='training',\n",
    "    batch_size = 10,\n",
    "    class_mode='categorical'\n",
    ")\n",
    "\n",
    "validation_dataset = train_.flow_from_directory(\n",
    "    TRAIN_DIR,\n",
    "    target_size = (224, 224),\n",
    "    subset='validation',\n",
    "    class_mode='categorical',\n",
    "    batch_size = 10,\n",
    ")\n",
    "\n"
   ]
  },
  {
   "cell_type": "code",
   "execution_count": 6,
   "metadata": {},
   "outputs": [
    {
     "name": "stdout",
     "output_type": "stream",
     "text": [
      "WARNING:tensorflow:Please fix your imports. Module tensorflow.python.training.tracking.data_structures has been moved to tensorflow.python.trackable.data_structures. The old module will be deleted in version 2.11.\n"
     ]
    }
   ],
   "source": [
    "# train_dataset.shape\n",
    "mobilenet_v2 = \"https://tfhub.dev/google/tf2-preview/mobilenet_v2/feature_vector/4\"\n",
    "feature_extractor_model = mobilenet_v2\n",
    "feature_extractor_layer = hub.KerasLayer(\n",
    "    feature_extractor_model,\n",
    "    input_shape=(224, 224, 3),\n",
    "    trainable=False)\n"
   ]
  },
  {
   "cell_type": "code",
   "execution_count": 16,
   "metadata": {},
   "outputs": [],
   "source": [
    "num_classes = 3\n",
    "\n",
    "model = tf.keras.models.Sequential([\n",
    "#   tf.keras.layers.Rescaling(1./255),\n",
    "feature_extractor_layer,\n",
    "# tf.keras.layers.Conv2D(16, (3,3), input_shape=(256,256,3), activation='relu'),\n",
    "# tf.keras.layers.MaxPooling2D(2,2),\n",
    "\n",
    "# tf.keras.layers.Conv2D(32, (3,3), activation='relu'),\n",
    "# tf.keras.layers.MaxPooling2D(2,2),\n",
    "\n",
    "# tf.keras.layers.Conv2D(64, (3,3), activation='relu'),\n",
    "# tf.keras.layers.MaxPooling2D(2,2),\n",
    "\n",
    "# tf.keras.layers.Conv2D(128, (3,3), activation='relu'),\n",
    "# tf.keras.layers.MaxPooling2D(2,2),\n",
    "\n",
    "# tf.keras.layers.Flatten(),\n",
    "# tf.keras.layers.Dense(128*4, activation='relu'),\n",
    "tf.keras.layers.Dense(num_classes, activation='softmax')\n",
    "])"
   ]
  },
  {
   "cell_type": "code",
   "execution_count": 17,
   "metadata": {},
   "outputs": [],
   "source": [
    "# source: https://stackoverflow.com/questions/57301698/how-to-change-a-learning-rate-for-adam-in-tf2\n",
    "# to reduce lr each run\n",
    "# model.fit(x_train, y_train, callbacks=[LearningRateReducerCb()], epochs=5)\n",
    "class LearningRateReducerCb(tf.keras.callbacks.Callback):\n",
    "\n",
    "  def on_epoch_end(self, epoch, logs={}):\n",
    "    old_lr = self.model.optimizer.lr.read_value()\n",
    "    new_lr = old_lr * 0.1\n",
    "    print(\"\\nEpoch: {}. Reducing Learning Rate from {} to {}\".format(epoch, old_lr, new_lr))\n",
    "    self.model.optimizer.lr.assign(new_lr)\n",
    "\n",
    "early_stopping = tf.keras.callbacks.EarlyStopping(monitor='val_loss', patience=5)"
   ]
  },
  {
   "cell_type": "code",
   "execution_count": 18,
   "metadata": {},
   "outputs": [],
   "source": [
    "adam = tf.keras.optimizers.Adam(\n",
    "   learning_rate = 0.1, beta_1 = 0.9, beta_2 = 0.999, amsgrad = False\n",
    ")\n",
    "nadam = tf.keras.optimizers.Nadam(learning_rate = 0.002, beta_1 = 0.9, beta_2 = 0.999)\n",
    "sgd = tf.keras.optimizers.SGD(learning_rate = 0.01, momentum = 0.8, nesterov = False)\n",
    "\n",
    "optimizers = [adam, nadam, sgd]\n",
    "optimizer_names = [\"adam\", \"nadam\", \"sgd\"]"
   ]
  },
  {
   "cell_type": "code",
   "execution_count": 20,
   "metadata": {},
   "outputs": [
    {
     "name": "stdout",
     "output_type": "stream",
     "text": [
      "Epoch 1/3\n",
      "25/25 [==============================] - 5s 164ms/step - loss: 8.2133 - accuracy: 0.6411 - val_loss: 1.3578 - val_accuracy: 0.8065\n",
      "Epoch 2/3\n",
      "25/25 [==============================] - 4s 143ms/step - loss: 2.5970 - accuracy: 0.8710 - val_loss: 8.2151 - val_accuracy: 0.5806\n",
      "Epoch 3/3\n",
      "25/25 [==============================] - 4s 141ms/step - loss: 1.9184 - accuracy: 0.9032 - val_loss: 0.1309 - val_accuracy: 0.9516\n",
      "7/7 [==============================] - 1s 107ms/step - loss: 0.1309 - accuracy: 0.9516\n",
      "[0.13094794750213623, 0.9516128897666931]\n"
     ]
    },
    {
     "data": {
      "image/png": "[encoded data removed]",
      "text/plain": [
       "<Figure size 640x480 with 1 Axes>"
      ]
     },
     "metadata": {},
     "output_type": "display_data"
    },
    {
     "name": "stdout",
     "output_type": "stream",
     "text": [
      "Epoch 1/3\n",
      "25/25 [==============================] - 6s 174ms/step - loss: 0.1996 - accuracy: 0.9718 - val_loss: 0.1193 - val_accuracy: 0.9677\n",
      "Epoch 2/3\n",
      "25/25 [==============================] - 4s 145ms/step - loss: 0.1406 - accuracy: 0.9839 - val_loss: 0.1219 - val_accuracy: 0.9677\n",
      "Epoch 3/3\n",
      "25/25 [==============================] - 4s 144ms/step - loss: 0.0884 - accuracy: 0.9879 - val_loss: 0.1384 - val_accuracy: 0.9677\n",
      "7/7 [==============================] - 1s 111ms/step - loss: 0.1384 - accuracy: 0.9677\n",
      "[0.1383558064699173, 0.9677419066429138]\n"
     ]
    },
    {
     "data": {
      "image/png": "[encoded data removed]",
      "text/plain": [
       "<Figure size 640x480 with 1 Axes>"
      ]
     },
     "metadata": {},
     "output_type": "display_data"
    },
    {
     "name": "stdout",
     "output_type": "stream",
     "text": [
      "Epoch 1/3\n",
      "25/25 [==============================] - 5s 171ms/step - loss: 0.0526 - accuracy: 0.9879 - val_loss: 0.1337 - val_accuracy: 0.9677\n",
      "Epoch 2/3\n",
      "25/25 [==============================] - 4s 144ms/step - loss: 0.0571 - accuracy: 0.9879 - val_loss: 0.1404 - val_accuracy: 0.9677\n",
      "Epoch 3/3\n",
      "25/25 [==============================] - 4s 146ms/step - loss: 0.0092 - accuracy: 0.9960 - val_loss: 0.1446 - val_accuracy: 0.9677\n",
      "7/7 [==============================] - 1s 106ms/step - loss: 0.1446 - accuracy: 0.9677\n",
      "[0.14455996453762054, 0.9677419066429138]\n"
     ]
    },
    {
     "data": {
      "image/png": "[encoded data removed]",
      "text/plain": [
       "<Figure size 640x480 with 1 Axes>"
      ]
     },
     "metadata": {},
     "output_type": "display_data"
    }
   ],
   "source": [
    "for i in range(len(optimizers)):\n",
    "    model.compile(loss='categorical_crossentropy', optimizer=optimizers[i], metrics=['accuracy'])\n",
    "    epochs=3\n",
    "    history = model.fit(\n",
    "    train_dataset,\n",
    "    validation_data=validation_dataset,\n",
    "    epochs=epochs,\n",
    "    callbacks=[early_stopping]\n",
    "    )\n",
    "    print( model.evaluate(validation_dataset) )\n",
    "\n",
    "    model_save = \"clean_data\"+ optimizer_names[i] + \".hdf5\"\n",
    "    tf.keras.models.save_model(model, model_save)\n",
    "    \n",
    "    plt.plot(history.history['accuracy'])\n",
    "    plt.plot(history.history['val_accuracy'])\n",
    "    plt.title('model accuracy')\n",
    "    plt.ylim([0,1.1])\n",
    "    plt.ylabel('accuracy')\n",
    "    plt.xlabel('epoch')\n",
    "    plt.legend(['train', 'val'], loc='upper left')\n",
    "    plt.savefig(\"clean\"+ optimizer_names[i]+\".jpg\", dpi = 200)\n",
    "    plt.show()"
   ]
  },
  {
   "cell_type": "code",
   "execution_count": 21,
   "metadata": {},
   "outputs": [],
   "source": [
    "model_trained = tf.keras.models.load_model('clean_dataadam.hdf5', \n",
    "custom_objects={'KerasLayer':hub.KerasLayer})"
   ]
  },
  {
   "cell_type": "code",
   "execution_count": null,
   "metadata": {},
   "outputs": [],
   "source": []
  },
  {
   "cell_type": "code",
   "execution_count": 41,
   "metadata": {},
   "outputs": [],
   "source": [
    "def classify_image(image, model):\n",
    "    # Pre-process the image for the model\n",
    "    image = cv2.imread(image)\n",
    "    image = tf.image.resize(image, (224, 224))  # Resize the image\n",
    "    image = tf.keras.applications.mobilenet_v2.preprocess_input(image)  # Pre-process the image for the model\n",
    "    image = image[None, ...]  # Add a batch dimension to the image\n",
    "\n",
    "    # Use the model to classify the image\n",
    "    predictions = model.predict(image)\n",
    "\n",
    "    # Return the predicted class and probability\n",
    "    return tf.argmax(predictions[0]), tf.nn.softmax(predictions)[0, tf.argmax(predictions[0])]\n",
    "    # , tf.nn.softmax(predictions)[0, tf.argmax(predictions[0])]\n",
    "\n",
    "# Load the trained model\n",
    "# model = tf.keras.models.load_model('model.h5')\n",
    "# model = tf.keras.models.load_model('my_model.hdf5', custom_objects={'KerasLayer':hub.KerasLayer})\n",
    "\n",
    "\n",
    "# class_index, class_probability = classify_image(image, model)\n",
    "\n",
    "index_list = [\"Bench\", \"Deadlift\", \"Squat\"]\n"
   ]
  },
  {
   "cell_type": "markdown",
   "metadata": {},
   "source": [
    "# Older"
   ]
  },
  {
   "cell_type": "code",
   "execution_count": 62,
   "metadata": {},
   "outputs": [],
   "source": [
    "custom_path = \"C:\\\\Users\\\\mkingsl6\\\\Desktop\\\\verfication_data_mike\"\n",
    "bench_test = custom_path + \"\\\\Bench\"\n",
    "deadlift_test = custom_path + \"\\\\Deadlift\"\n",
    "squats_test = custom_path + \"\\\\Squat\""
   ]
  },
  {
   "cell_type": "code",
   "execution_count": 63,
   "metadata": {},
   "outputs": [],
   "source": [
    "import glob\n",
    "# bench_testlist = glob.glob(bench_test)\n",
    "bench_testlist=os.listdir(bench_test)\n",
    "predictions = []\n",
    "# deadlift_testlist = glob.glob(deadlift_test)\n",
    "deadlift_testlist=os.listdir(deadlift_test)\n",
    "\n",
    "# squats_test = glob.glob(squats_test)\n",
    "squats_testlist=os.listdir(squats_test)"
   ]
  },
  {
   "cell_type": "code",
   "execution_count": 64,
   "metadata": {},
   "outputs": [
    {
     "data": {
      "text/plain": [
       "'C:\\\\Users\\\\mkingsl6\\\\Desktop\\\\verfication_data_mike\\\\Squat\\\\1.jpg'"
      ]
     },
     "execution_count": 64,
     "metadata": {},
     "output_type": "execute_result"
    }
   ],
   "source": [
    "# img = deadlift_test + \"\\\\\" + deadlift_testlist[0]\n",
    "# img = bench_test + \"\\\\\" +bench_testlist[0]\n",
    "img = squats_test + \"\\\\\" + squats_testlist[0]\n",
    "\n",
    "img"
   ]
  },
  {
   "cell_type": "code",
   "execution_count": 68,
   "metadata": {},
   "outputs": [
    {
     "name": "stdout",
     "output_type": "stream",
     "text": [
      "1/1 [==============================] - 0s 29ms/step\n"
     ]
    },
    {
     "data": {
      "text/plain": [
       "array([[1.9964362e-05, 9.9998009e-01, 3.2992928e-10]], dtype=float32)"
      ]
     },
     "execution_count": 68,
     "metadata": {},
     "output_type": "execute_result"
    }
   ],
   "source": [
    "image = cv2.imread(img)\n",
    "image = tf.image.resize(image, (224, 224))  # Resize the image\n",
    "image = tf.keras.applications.mobilenet_v2.preprocess_input(image)  # Pre-process the image for the model\n",
    "image = image[None, ...]  # Add a batch dimension to the image\n",
    "\n",
    "# Use the model to classify the image\n",
    "predictions = model_trained.predict(image)\n",
    "predictions"
   ]
  },
  {
   "cell_type": "code",
   "execution_count": 69,
   "metadata": {},
   "outputs": [
    {
     "name": "stdout",
     "output_type": "stream",
     "text": [
      "1/1 [==============================] - 0s 27ms/step\n"
     ]
    }
   ],
   "source": [
    "class_index, class_probability = classify_image(img, model_trained)"
   ]
  },
  {
   "cell_type": "code",
   "execution_count": 70,
   "metadata": {},
   "outputs": [
    {
     "name": "stdout",
     "output_type": "stream",
     "text": [
      "Predicted class: Deadlift\n",
      "Class probability: 0.58\n",
      "1\n"
     ]
    }
   ],
   "source": [
    "index_list = [\"Bench\", \"Deadlift\", \"Squat\"]\n",
    "print(f'Predicted class: {index_list[class_index]}' )\n",
    "print(f'Class probability: {class_probability:.2f}')\n",
    "print(class_index.numpy())"
   ]
  },
  {
   "cell_type": "markdown",
   "metadata": {},
   "source": [
    "# Brute force way "
   ]
  },
  {
   "cell_type": "code",
   "execution_count": 76,
   "metadata": {},
   "outputs": [],
   "source": [
    "class_names = [\"Bench\", \"Deadlift\", \"Squats\"]"
   ]
  },
  {
   "cell_type": "code",
   "execution_count": 77,
   "metadata": {},
   "outputs": [
    {
     "name": "stdout",
     "output_type": "stream",
     "text": [
      "1/1 [==============================] - 0s 27ms/step\n",
      "1/1 [==============================] - 0s 29ms/step\n",
      "1/1 [==============================] - 0s 30ms/step\n",
      "1/1 [==============================] - 0s 31ms/step\n",
      "1/1 [==============================] - 0s 29ms/step\n",
      "1/1 [==============================] - 0s 32ms/step\n",
      "1/1 [==============================] - 0s 29ms/step\n",
      "1/1 [==============================] - 0s 28ms/step\n",
      "1/1 [==============================] - 0s 29ms/step\n",
      "1/1 [==============================] - 0s 27ms/step\n",
      "1/1 [==============================] - 0s 27ms/step\n",
      "1/1 [==============================] - 0s 29ms/step\n",
      "1/1 [==============================] - 0s 29ms/step\n",
      "1/1 [==============================] - 0s 28ms/step\n",
      "1/1 [==============================] - 0s 27ms/step\n",
      "1/1 [==============================] - 0s 29ms/step\n",
      "1/1 [==============================] - 0s 31ms/step\n"
     ]
    }
   ],
   "source": [
    "data = []\n",
    "labels = []\n",
    "predictions = []\n",
    "\n",
    "for i in bench_testlist:\n",
    "    i = bench_test + \"\\\\\"+ i\n",
    "    class_index, class_probability = classify_image(i, model_trained)\n",
    "    predictions.append(class_index.numpy())\n",
    "    labels.append(0)\n",
    "\n",
    "for i in deadlift_testlist:\n",
    "    # print(i)\n",
    "    i = deadlift_test + \"\\\\\"+ i \n",
    "    # print(i)\n",
    "    class_index, class_probability = classify_image(i, model_trained)\n",
    "    predictions.append(class_index.numpy())\n",
    "    labels.append(1)\n",
    "\n",
    "for i in squats_testlist:\n",
    "    i = squats_test + \"\\\\\"+ i \n",
    "    class_index, class_probability = classify_image(i, model_trained)\n",
    "    predictions.append(class_index.numpy())\n",
    "    labels.append(2)\n",
    "\n",
    "data = np.array(data)\n",
    "labels = np.array(labels)\n",
    "predictions = np.array(predictions)"
   ]
  },
  {
   "cell_type": "code",
   "execution_count": 78,
   "metadata": {},
   "outputs": [
    {
     "name": "stdout",
     "output_type": "stream",
     "text": [
      "[0 0 0 0 2 0 0 1 1 1 1 1 1 1 1 1 1]\n",
      "[0 0 0 0 0 0 0 1 1 1 1 1 2 2 2 2 2]\n",
      "(17,)\n"
     ]
    }
   ],
   "source": [
    "# [np.argmax( predictions[i]) for i in range(len(predictions)) ]\n",
    "print(predictions)\n",
    "print(labels)\n",
    "print(predictions.shape)"
   ]
  },
  {
   "cell_type": "code",
   "execution_count": 79,
   "metadata": {},
   "outputs": [],
   "source": [
    "from sklearn.metrics import confusion_matrix, ConfusionMatrixDisplay\n",
    "cm = confusion_matrix(predictions, labels)"
   ]
  },
  {
   "cell_type": "code",
   "execution_count": 80,
   "metadata": {},
   "outputs": [
    {
     "data": {
      "text/plain": [
       "array([[6, 0, 0],\n",
       "       [0, 5, 5],\n",
       "       [1, 0, 0]], dtype=int64)"
      ]
     },
     "execution_count": 80,
     "metadata": {},
     "output_type": "execute_result"
    }
   ],
   "source": [
    "cm"
   ]
  },
  {
   "cell_type": "code",
   "execution_count": 82,
   "metadata": {},
   "outputs": [],
   "source": [
    "disp = ConfusionMatrixDisplay(cm)"
   ]
  },
  {
   "cell_type": "code",
   "execution_count": 83,
   "metadata": {},
   "outputs": [
    {
     "data": {
      "text/plain": [
       "<sklearn.metrics._plot.confusion_matrix.ConfusionMatrixDisplay at 0x2abf2dd8280>"
      ]
     },
     "execution_count": 83,
     "metadata": {},
     "output_type": "execute_result"
    },
    {
     "data": {
      "image/png": "[encoded data removed]",
      "text/plain": [
       "<Figure size 640x480 with 2 Axes>"
      ]
     },
     "metadata": {},
     "output_type": "display_data"
    }
   ],
   "source": [
    "disp.plot()"
   ]
  },
  {
   "cell_type": "code",
   "execution_count": null,
   "metadata": {},
   "outputs": [],
   "source": []
  }
 ],
 "metadata": {
  "accelerator": "GPU",
  "colab": {
   "collapsed_sections": [],
   "name": "cnn.ipynb",
   "toc_visible": true
  },
  "kernelspec": {
   "display_name": "Python 3.9.15 ('tensor')",
   "language": "python",
   "name": "python3"
  },
  "language_info": {
   "codemirror_mode": {
    "name": "ipython",
    "version": 3
   },
   "file_extension": ".py",
   "mimetype": "text/x-python",
   "name": "python",
   "nbconvert_exporter": "python",
   "pygments_lexer": "ipython3",
   "version": "3.9.15"
  },
  "vscode": {
   "interpreter": {
    "hash": "cd205e405f816b0d87a3d75b6b3ff4a133f84e1c1faa0d9744a0b4862d5af959"
   }
  }
 },
 "nbformat": 4,
 "nbformat_minor": 0
}
