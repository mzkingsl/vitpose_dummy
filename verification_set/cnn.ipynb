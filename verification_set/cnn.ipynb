{
 "cells": [
  {
   "cell_type": "markdown",
   "metadata": {
    "id": "x4HI2mpwlrcn"
   },
   "source": [
    "##### Copyright 2019 The TensorFlow Authors."
   ]
  },
  {
   "cell_type": "markdown",
   "metadata": {
    "id": "DSPCom-KmApV"
   },
   "source": [
    "# Convolutional Neural Network (CNN)"
   ]
  },
  {
   "cell_type": "code",
   "execution_count": 12,
   "metadata": {},
   "outputs": [],
   "source": [
    "import cv2\n",
    "import numpy as np\n",
    "import pandas as pd \n",
    "import json\n",
    "import glob\n",
    "import os\n",
    "from PIL import Image\n",
    "import scipy"
   ]
  },
  {
   "cell_type": "code",
   "execution_count": 13,
   "metadata": {},
   "outputs": [],
   "source": [
    "import tensorflow as tf\n",
    "from tensorflow.keras import datasets, layers, models, optimizers\n",
    "import matplotlib.pyplot as plt\n",
    "from sklearn.model_selection import LeaveOneOut,KFold\n",
    "import tensorflow_hub as hub\n"
   ]
  },
  {
   "cell_type": "code",
   "execution_count": 14,
   "metadata": {
    "execution": {
     "iopub.execute_input": "2022-01-26T05:11:32.261134Z",
     "iopub.status.busy": "2022-01-26T05:11:32.260310Z",
     "iopub.status.idle": "2022-01-26T05:11:34.742110Z",
     "shell.execute_reply": "2022-01-26T05:11:34.741254Z"
    },
    "id": "iAve6DCL4JH4"
   },
   "outputs": [],
   "source": [
    "from tensorflow.keras.preprocessing.image import ImageDataGenerator\n",
    "from tensorflow.keras.preprocessing import image\n",
    "from sklearn.model_selection import cross_val_score\n"
   ]
  },
  {
   "cell_type": "code",
   "execution_count": 15,
   "metadata": {},
   "outputs": [],
   "source": [
    "# import images\n",
    "#change user\n",
    "path = \"C:\\\\Users\\\\mkingsl6\\\\Desktop\\\\clean_data\"\n",
    "# path ='C:\\\\Users\\\\amart50\\\\Desktop\\\\CNN_test\\\\data'\n",
    "deadlift = path + \"\\\\Deadlift\"\n",
    "bench = path + \"\\\\Bench\"\n",
    "squats = path + \"\\\\Squat\""
   ]
  },
  {
   "cell_type": "code",
   "execution_count": 16,
   "metadata": {},
   "outputs": [
    {
     "name": "stdout",
     "output_type": "stream",
     "text": [
      "Found 248 images belonging to 3 classes.\n",
      "Found 62 images belonging to 3 classes.\n"
     ]
    }
   ],
   "source": [
    "# normalise the pixel values\n",
    "train_ = ImageDataGenerator(validation_split = .2, rescale=1./255)\n",
    "TRAIN_DIR = path\n",
    "\n",
    "\n",
    "train_dataset = train_.flow_from_directory(\n",
    "    TRAIN_DIR,\n",
    "    target_size = (224, 224),\n",
    "    subset='training',\n",
    "    batch_size = 10,\n",
    "    class_mode='categorical'\n",
    ")\n",
    "\n",
    "validation_dataset = train_.flow_from_directory(\n",
    "    TRAIN_DIR,\n",
    "    target_size = (224, 224),\n",
    "    subset='validation',\n",
    "    class_mode='categorical',\n",
    "    batch_size = 10,\n",
    ")\n",
    "\n"
   ]
  },
  {
   "cell_type": "code",
   "execution_count": 17,
   "metadata": {},
   "outputs": [],
   "source": [
    "# train_dataset.shape\n",
    "mobilenet_v2 = \"https://tfhub.dev/google/tf2-preview/mobilenet_v2/feature_vector/4\"\n",
    "feature_extractor_model = mobilenet_v2\n",
    "feature_extractor_layer = hub.KerasLayer(\n",
    "    feature_extractor_model,\n",
    "    input_shape=(224, 224, 3),\n",
    "    trainable=False)\n"
   ]
  },
  {
   "cell_type": "code",
   "execution_count": 18,
   "metadata": {},
   "outputs": [],
   "source": [
    "num_classes = 3\n",
    "\n",
    "model = tf.keras.models.Sequential([\n",
    "#   tf.keras.layers.Rescaling(1./255),\n",
    "feature_extractor_layer,\n",
    "# tf.keras.layers.Conv2D(16, (3,3), input_shape=(256,256,3), activation='relu'),\n",
    "# tf.keras.layers.MaxPooling2D(2,2),\n",
    "\n",
    "# tf.keras.layers.Conv2D(32, (3,3), activation='relu'),\n",
    "# tf.keras.layers.MaxPooling2D(2,2),\n",
    "\n",
    "# tf.keras.layers.Conv2D(64, (3,3), activation='relu'),\n",
    "# tf.keras.layers.MaxPooling2D(2,2),\n",
    "\n",
    "# tf.keras.layers.Conv2D(128, (3,3), activation='relu'),\n",
    "# tf.keras.layers.MaxPooling2D(2,2),\n",
    "\n",
    "# tf.keras.layers.Flatten(),\n",
    "# tf.keras.layers.Dense(128*4, activation='relu'),\n",
    "tf.keras.layers.Dense(num_classes, activation='softmax')\n",
    "])"
   ]
  },
  {
   "cell_type": "code",
   "execution_count": 19,
   "metadata": {},
   "outputs": [],
   "source": [
    "# source: https://stackoverflow.com/questions/57301698/how-to-change-a-learning-rate-for-adam-in-tf2\n",
    "# to reduce lr each run\n",
    "# model.fit(x_train, y_train, callbacks=[LearningRateReducerCb()], epochs=5)\n",
    "class LearningRateReducerCb(tf.keras.callbacks.Callback):\n",
    "\n",
    "  def on_epoch_end(self, epoch, logs={}):\n",
    "    old_lr = self.model.optimizer.lr.read_value()\n",
    "    new_lr = old_lr * 0.1\n",
    "    print(\"\\nEpoch: {}. Reducing Learning Rate from {} to {}\".format(epoch, old_lr, new_lr))\n",
    "    self.model.optimizer.lr.assign(new_lr)\n",
    "\n",
    "early_stopping = tf.keras.callbacks.EarlyStopping(monitor='val_loss', patience=5)"
   ]
  },
  {
   "cell_type": "code",
   "execution_count": 20,
   "metadata": {},
   "outputs": [],
   "source": [
    "adam = tf.keras.optimizers.Adam(\n",
    "   learning_rate = 0.1, beta_1 = 0.9, beta_2 = 0.999, amsgrad = False\n",
    ")\n",
    "nadam = tf.keras.optimizers.Nadam(learning_rate = 0.002, beta_1 = 0.9, beta_2 = 0.999)\n",
    "sgd = tf.keras.optimizers.SGD(learning_rate = 0.01, momentum = 0.8, nesterov = False)\n",
    "\n",
    "optimizers = [adam, nadam, sgd]"
   ]
  },
  {
   "cell_type": "code",
   "execution_count": null,
   "metadata": {},
   "outputs": [],
   "source": [
    "for opt in optimizers:\n",
    "    model.compile(loss='categorical_crossentropy', optimizer=opt, metrics=['accuracy'])\n",
    "    epochs=30\n",
    "    history = model.fit(\n",
    "    train_dataset,\n",
    "    validation_data=validation_dataset,\n",
    "    epochs=epochs,\n",
    "    callbacks=[early_stopping]\n",
    "    )\n",
    "    print( model.evaluate(validation_dataset) )\n",
    "\n",
    "    model_save = \"clean_data\"+ str(opt)+ \".hdf5\"\n",
    "    tf.keras.models.save_model(model, model_save)\n",
    "    \n",
    "    plt.plot(history.history['accuracy'])\n",
    "    plt.plot(history.history['val_accuracy'])\n",
    "    plt.title('model accuracy')\n",
    "    plt.ylim([0,1.1])\n",
    "    plt.ylabel('accuracy')\n",
    "    plt.xlabel('epoch')\n",
    "    plt.legend(['train', 'val'], loc='upper left')\n",
    "    plt.savefig(\"clean\"+str(opt)+\".jpg\", dpi = 200)\n",
    "    plt.show()"
   ]
  },
  {
   "cell_type": "code",
   "execution_count": null,
   "metadata": {},
   "outputs": [],
   "source": []
  },
  {
   "cell_type": "code",
   "execution_count": null,
   "metadata": {},
   "outputs": [],
   "source": []
  },
  {
   "cell_type": "code",
   "execution_count": null,
   "metadata": {},
   "outputs": [],
   "source": []
  },
  {
   "cell_type": "markdown",
   "metadata": {},
   "source": [
    "# Older"
   ]
  },
  {
   "cell_type": "code",
   "execution_count": 21,
   "metadata": {},
   "outputs": [],
   "source": [
    "model.compile(loss='categorical_crossentropy', optimizer=adam, metrics=['accuracy'])"
   ]
  },
  {
   "cell_type": "code",
   "execution_count": 110,
   "metadata": {},
   "outputs": [],
   "source": [
    "# # model_fit = model.fit(train_dataset, epochs=5)\n",
    "# model.summary()\n"
   ]
  },
  {
   "cell_type": "code",
   "execution_count": 22,
   "metadata": {},
   "outputs": [
    {
     "name": "stdout",
     "output_type": "stream",
     "text": [
      "Epoch 1/3\n",
      "25/25 [==============================] - 9s 189ms/step - loss: 9.5435 - accuracy: 0.5847 - val_loss: 5.0430 - val_accuracy: 0.6935\n",
      "Epoch 2/3\n",
      "25/25 [==============================] - 4s 144ms/step - loss: 2.0935 - accuracy: 0.9032 - val_loss: 0.5442 - val_accuracy: 0.9194\n",
      "Epoch 3/3\n",
      "25/25 [==============================] - 4s 142ms/step - loss: 0.2533 - accuracy: 0.9758 - val_loss: 0.8965 - val_accuracy: 0.9032\n"
     ]
    }
   ],
   "source": [
    "epochs=3\n",
    "history = model.fit(\n",
    "  train_dataset,\n",
    "  validation_data=validation_dataset,\n",
    "  epochs=epochs,\n",
    "  callbacks=[early_stopping]\n",
    ")"
   ]
  },
  {
   "cell_type": "code",
   "execution_count": 27,
   "metadata": {},
   "outputs": [
    {
     "name": "stdout",
     "output_type": "stream",
     "text": [
      "7/7 [==============================] - 1s 120ms/step\n"
     ]
    }
   ],
   "source": [
    "# model.fit(x_train, y_train, callbacks=[LearningRateReducerCb()], epochs=5)\n",
    "predictions = model.predict(validation_dataset)\n",
    "\n"
   ]
  },
  {
   "cell_type": "code",
   "execution_count": 36,
   "metadata": {},
   "outputs": [
    {
     "data": {
      "text/plain": [
       "array([0, 0, 0, 0, 0, 0, 0, 0, 0, 0, 0, 0, 0, 0, 0, 0, 0, 0, 0, 0, 1, 1,\n",
       "       1, 1, 1, 1, 1, 1, 1, 1, 1, 1, 1, 1, 1, 1, 1, 1, 1, 1, 1, 1, 2, 2,\n",
       "       2, 2, 2, 2, 2, 2, 2, 2, 2, 2, 2, 2, 2, 2, 2, 2, 2, 2])"
      ]
     },
     "execution_count": 36,
     "metadata": {},
     "output_type": "execute_result"
    }
   ],
   "source": [
    "validation_dataset.class_indices.keys()\n",
    "validation_dataset.classes"
   ]
  },
  {
   "cell_type": "code",
   "execution_count": 38,
   "metadata": {},
   "outputs": [],
   "source": [
    "from sklearn.metrics import confusion_matrix, ConfusionMatrixDisplay\n"
   ]
  },
  {
   "cell_type": "code",
   "execution_count": null,
   "metadata": {},
   "outputs": [],
   "source": [
    "predi"
   ]
  },
  {
   "cell_type": "code",
   "execution_count": 41,
   "metadata": {},
   "outputs": [],
   "source": [
    "cm = confusion_matrix(validation_dataset.classes, predictions)"
   ]
  },
  {
   "cell_type": "code",
   "execution_count": 42,
   "metadata": {},
   "outputs": [
    {
     "data": {
      "text/plain": [
       "<sklearn.metrics._plot.confusion_matrix.ConfusionMatrixDisplay at 0x213aae46760>"
      ]
     },
     "execution_count": 42,
     "metadata": {},
     "output_type": "execute_result"
    },
    {
     "data": {
      "image/png": "[encoded data removed]",
      "text/plain": [
       "<Figure size 640x480 with 2 Axes>"
      ]
     },
     "metadata": {},
     "output_type": "display_data"
    }
   ],
   "source": [
    "disp = ConfusionMatrixDisplay(cm)\n",
    "disp.plot()"
   ]
  },
  {
   "cell_type": "code",
   "execution_count": 40,
   "metadata": {},
   "outputs": [],
   "source": [
    "predictions = [np.argmax( predictions[i]) for i in range(len(predictions)) ]"
   ]
  },
  {
   "cell_type": "code",
   "execution_count": 113,
   "metadata": {},
   "outputs": [
    {
     "data": {
      "image/png": "[encoded data removed]",
      "text/plain": [
       "<Figure size 640x480 with 1 Axes>"
      ]
     },
     "metadata": {},
     "output_type": "display_data"
    }
   ],
   "source": [
    "plt.plot(history.history['accuracy'])\n",
    "plt.plot(history.history['val_accuracy'])\n",
    "plt.title('model accuracy')\n",
    "# plt.scale()\n",
    "plt.ylim([0,1.1])\n",
    "plt.ylabel('accuracy')\n",
    "plt.xlabel('epoch')\n",
    "plt.legend(['train', 'val'], loc='upper left')\n",
    "plt.savefig(\"clean_\")\n",
    "plt.show()"
   ]
  },
  {
   "cell_type": "code",
   "execution_count": 74,
   "metadata": {},
   "outputs": [],
   "source": [
    "tf.keras.models.save_model(model,'my_model_adam_clean.hdf5')"
   ]
  },
  {
   "cell_type": "code",
   "execution_count": 75,
   "metadata": {},
   "outputs": [],
   "source": [
    "custom_path = \"C:\\\\Users\\\\mkingsl6\\\\Desktop\\\\verfication_data_mike\"\n",
    "bench_test = custom_path + \"\\\\Bench\"\n",
    "deadlift_test = custom_path + \"\\\\Deadlift\"\n",
    "squats_test = custom_path + \"\\\\Squat\""
   ]
  },
  {
   "cell_type": "code",
   "execution_count": 168,
   "metadata": {},
   "outputs": [],
   "source": [
    "import glob\n",
    "# bench_testlist = glob.glob(bench_test)\n",
    "bench_testlist=os.listdir(bench_test)\n",
    "\n",
    "# deadlift_testlist = glob.glob(deadlift_test)\n",
    "deadlift_testlist=os.listdir(deadlift_test)\n",
    "\n",
    "# squats_test = glob.glob(squats_test)\n",
    "squats_testlist=os.listdir(squats_test)\n",
    "\n",
    "data = []\n",
    "labels = []\n",
    "\n",
    "for i in bench_testlist:\n",
    "    # print(i)\n",
    "    i = bench_test + \"\\\\\"+ i\n",
    "    # print(i)\n",
    "    image=tf.keras.preprocessing.image.load_img(i, color_mode='rgb', \n",
    "    target_size= (224,224))\n",
    "    image=np.array(image)\n",
    "    data.append(image)\n",
    "    labels.append(0)\n",
    "\n",
    "for i in deadlift_testlist:\n",
    "    # print(i)\n",
    "    i = deadlift_test + \"\\\\\"+ i \n",
    "    # print(i)\n",
    "    image=tf.keras.preprocessing.image.load_img(i, color_mode='rgb', \n",
    "    target_size= (224,224))\n",
    "    image=np.array(image)\n",
    "    data.append(image)\n",
    "    labels.append(1)\n",
    "for i in squats_testlist:\n",
    "    i = squats_test + \"\\\\\"+ i \n",
    "    image=tf.keras.preprocessing.image.load_img(i, color_mode='rgb', \n",
    "    target_size= (224,224))\n",
    "    image=np.array(image)\n",
    "    data.append(image)\n",
    "    labels.append(2)\n",
    "\n",
    "data = np.array(data)\n",
    "labels = np.array(labels)"
   ]
  },
  {
   "cell_type": "code",
   "execution_count": 162,
   "metadata": {},
   "outputs": [],
   "source": [
    "import glob\n",
    "# bench_testlist = glob.glob(bench_test)\n",
    "bench_testlist=os.listdir(bench_test)\n",
    "\n",
    "# deadlift_testlist = glob.glob(deadlift_test)\n",
    "deadlift_testlist=os.listdir(deadlift_test)\n",
    "\n",
    "# squats_test = glob.glob(squats_test)\n",
    "squats_testlist=os.listdir(squats_test)\n",
    "\n",
    "data = []\n",
    "labels = []\n",
    "\n",
    "for i in bench_testlist:\n",
    "    # print(i)\n",
    "    i = bench_test + \"\\\\\"+ i\n",
    "    # print(i)\n",
    "    image = cv2.imread(img)\n",
    "    image = tf.image.resize(image, (224, 224))  # Resize the image\n",
    "    image = tf.keras.applications.mobilenet_v2.preprocess_input(image)  # Pre-process the image for the model\n",
    "    image = image[None, ...]  # Add a batch dimension to the image\n",
    "   # image=np.array(image)\n",
    "\n",
    "    data.append(image)\n",
    "    labels.append(0)\n",
    "\n",
    "for i in deadlift_testlist:\n",
    "    # print(i)\n",
    "    i = deadlift_test + \"\\\\\"+ i \n",
    "    # print(i)\n",
    "    image = cv2.imread(img)\n",
    "    image = tf.image.resize(image, (224, 224))  # Resize the image\n",
    "    image = tf.keras.applications.mobilenet_v2.preprocess_input(image)  # Pre-process the image for the model\n",
    "    image = image[None, ...]  # Add a batch dimension to the image\n",
    "    labels.append(1)\n",
    "for i in squats_testlist:\n",
    "    i = squats_test + \"\\\\\"+ i \n",
    "    image = cv2.imread(img)\n",
    "    image = tf.image.resize(image, (224, 224))  # Resize the image\n",
    "    image = tf.keras.applications.mobilenet_v2.preprocess_input(image)  # Pre-process the image for the model\n",
    "    image = image[None, ...]  # Add a batch dimension to the image\n",
    "    data.append(image)\n",
    "    labels.append(2)\n",
    "\n",
    "data = np.array(data)\n",
    "labels = np.array(labels)"
   ]
  },
  {
   "cell_type": "code",
   "execution_count": null,
   "metadata": {},
   "outputs": [],
   "source": []
  },
  {
   "cell_type": "code",
   "execution_count": 169,
   "metadata": {},
   "outputs": [],
   "source": [
    "class_names = [\"Bench\", \"Deadlift\", \"Squats\"]"
   ]
  },
  {
   "cell_type": "code",
   "execution_count": 170,
   "metadata": {},
   "outputs": [],
   "source": [
    "# # normalise the pixel values\n",
    "# train_ = ImageDataGenerator(validation_split = .99, rescale=1./255)\n",
    "# TRAIN_DIR = path\n",
    "\n",
    "# test_custom_dataset = train_.flow_from_directory(\n",
    "#     TRAIN_DIR,\n",
    "#     target_size = (224, 224),\n",
    "#     subset='validation',\n",
    "#     class_mode='categorical',\n",
    "#     batch_size = 10,\n",
    "# )\n",
    "\n"
   ]
  },
  {
   "cell_type": "code",
   "execution_count": 171,
   "metadata": {},
   "outputs": [],
   "source": [
    "from sklearn.metrics import confusion_matrix, ConfusionMatrixDisplay"
   ]
  },
  {
   "cell_type": "code",
   "execution_count": 172,
   "metadata": {},
   "outputs": [
    {
     "data": {
      "text/plain": [
       "array([0, 0, 0, 0, 0, 0, 0, 1, 1, 1, 1, 1, 2, 2, 2, 2, 2])"
      ]
     },
     "execution_count": 172,
     "metadata": {},
     "output_type": "execute_result"
    }
   ],
   "source": [
    "labels\n",
    "# data"
   ]
  },
  {
   "cell_type": "code",
   "execution_count": 174,
   "metadata": {},
   "outputs": [
    {
     "data": {
      "text/plain": [
       "array([[6.2385112e-07, 9.9999940e-01, 8.4618638e-31],\n",
       "       [9.9960929e-01, 3.9068970e-04, 5.5983714e-29],\n",
       "       [4.5533266e-04, 9.9954468e-01, 1.8653516e-38],\n",
       "       [1.0000000e+00, 7.6034151e-10, 2.5124331e-33],\n",
       "       [5.9269237e-06, 9.9999404e-01, 2.2983012e-30],\n",
       "       [9.5259535e-01, 4.7404680e-02, 1.0225013e-21],\n",
       "       [2.3377927e-02, 9.7662205e-01, 4.4437064e-30],\n",
       "       [2.4392008e-22, 1.0000000e+00, 0.0000000e+00],\n",
       "       [4.4200887e-16, 1.0000000e+00, 0.0000000e+00],\n",
       "       [4.5631007e-21, 1.0000000e+00, 0.0000000e+00],\n",
       "       [4.8794770e-21, 1.0000000e+00, 0.0000000e+00],\n",
       "       [8.6568727e-04, 9.9913436e-01, 5.7055109e-29],\n",
       "       [6.7173052e-01, 3.2826945e-01, 3.3486959e-21],\n",
       "       [6.1983594e-13, 1.0000000e+00, 1.0200158e-36],\n",
       "       [4.7230735e-15, 1.0000000e+00, 4.4391268e-26],\n",
       "       [1.8345077e-06, 9.9999821e-01, 7.0319569e-21],\n",
       "       [1.0304136e-06, 9.9999893e-01, 1.3524712e-20]], dtype=float32)"
      ]
     },
     "execution_count": 174,
     "metadata": {},
     "output_type": "execute_result"
    }
   ],
   "source": [
    "predictions"
   ]
  },
  {
   "cell_type": "code",
   "execution_count": 177,
   "metadata": {},
   "outputs": [
    {
     "ename": "ValueError",
     "evalue": "Unexpected result of `predict_function` (Empty batch_outputs). Please use `Model.compile(..., run_eagerly=True)`, or `tf.config.run_functions_eagerly(True)` for more information of where went wrong, or file a issue/bug to `tf.keras`.",
     "output_type": "error",
     "traceback": [
      "\u001b[1;31m---------------------------------------------------------------------------\u001b[0m",
      "\u001b[1;31mValueError\u001b[0m                                Traceback (most recent call last)",
      "Cell \u001b[1;32mIn[177], line 1\u001b[0m\n\u001b[1;32m----> 1\u001b[0m predictions \u001b[39m=\u001b[39m model\u001b[39m.\u001b[39;49mpredict(data)\n\u001b[0;32m      2\u001b[0m \u001b[39m# cm = confusion_matrix(labels, predictions, labels=class_names)\u001b[39;00m\n\u001b[0;32m      3\u001b[0m \u001b[39m# cm\u001b[39;00m\n",
      "File \u001b[1;32mc:\\Users\\mkingsl6\\.conda\\envs\\tensor\\lib\\site-packages\\keras\\utils\\traceback_utils.py:70\u001b[0m, in \u001b[0;36mfilter_traceback.<locals>.error_handler\u001b[1;34m(*args, **kwargs)\u001b[0m\n\u001b[0;32m     67\u001b[0m     filtered_tb \u001b[39m=\u001b[39m _process_traceback_frames(e\u001b[39m.\u001b[39m__traceback__)\n\u001b[0;32m     68\u001b[0m     \u001b[39m# To get the full stack trace, call:\u001b[39;00m\n\u001b[0;32m     69\u001b[0m     \u001b[39m# `tf.debugging.disable_traceback_filtering()`\u001b[39;00m\n\u001b[1;32m---> 70\u001b[0m     \u001b[39mraise\u001b[39;00m e\u001b[39m.\u001b[39mwith_traceback(filtered_tb) \u001b[39mfrom\u001b[39;00m \u001b[39mNone\u001b[39m\n\u001b[0;32m     71\u001b[0m \u001b[39mfinally\u001b[39;00m:\n\u001b[0;32m     72\u001b[0m     \u001b[39mdel\u001b[39;00m filtered_tb\n",
      "File \u001b[1;32mc:\\Users\\mkingsl6\\.conda\\envs\\tensor\\lib\\site-packages\\keras\\engine\\training.py:2278\u001b[0m, in \u001b[0;36mModel.predict\u001b[1;34m(self, x, batch_size, verbose, steps, callbacks, max_queue_size, workers, use_multiprocessing)\u001b[0m\n\u001b[0;32m   2274\u001b[0m                 callbacks\u001b[39m.\u001b[39mon_predict_batch_end(\n\u001b[0;32m   2275\u001b[0m                     end_step, {\u001b[39m\"\u001b[39m\u001b[39moutputs\u001b[39m\u001b[39m\"\u001b[39m: batch_outputs}\n\u001b[0;32m   2276\u001b[0m                 )\n\u001b[0;32m   2277\u001b[0m     \u001b[39mif\u001b[39;00m batch_outputs \u001b[39mis\u001b[39;00m \u001b[39mNone\u001b[39;00m:\n\u001b[1;32m-> 2278\u001b[0m         \u001b[39mraise\u001b[39;00m \u001b[39mValueError\u001b[39;00m(\n\u001b[0;32m   2279\u001b[0m             \u001b[39m\"\u001b[39m\u001b[39mUnexpected result of `predict_function` \u001b[39m\u001b[39m\"\u001b[39m\n\u001b[0;32m   2280\u001b[0m             \u001b[39m\"\u001b[39m\u001b[39m(Empty batch_outputs). Please use \u001b[39m\u001b[39m\"\u001b[39m\n\u001b[0;32m   2281\u001b[0m             \u001b[39m\"\u001b[39m\u001b[39m`Model.compile(..., run_eagerly=True)`, or \u001b[39m\u001b[39m\"\u001b[39m\n\u001b[0;32m   2282\u001b[0m             \u001b[39m\"\u001b[39m\u001b[39m`tf.config.run_functions_eagerly(True)` for more \u001b[39m\u001b[39m\"\u001b[39m\n\u001b[0;32m   2283\u001b[0m             \u001b[39m\"\u001b[39m\u001b[39minformation of where went wrong, or file a \u001b[39m\u001b[39m\"\u001b[39m\n\u001b[0;32m   2284\u001b[0m             \u001b[39m\"\u001b[39m\u001b[39missue/bug to `tf.keras`.\u001b[39m\u001b[39m\"\u001b[39m\n\u001b[0;32m   2285\u001b[0m         )\n\u001b[0;32m   2286\u001b[0m     callbacks\u001b[39m.\u001b[39mon_predict_end()\n\u001b[0;32m   2287\u001b[0m all_outputs \u001b[39m=\u001b[39m tf\u001b[39m.\u001b[39m__internal__\u001b[39m.\u001b[39mnest\u001b[39m.\u001b[39mmap_structure_up_to(\n\u001b[0;32m   2288\u001b[0m     batch_outputs, potentially_ragged_concat, outputs\n\u001b[0;32m   2289\u001b[0m )\n",
      "\u001b[1;31mValueError\u001b[0m: Unexpected result of `predict_function` (Empty batch_outputs). Please use `Model.compile(..., run_eagerly=True)`, or `tf.config.run_functions_eagerly(True)` for more information of where went wrong, or file a issue/bug to `tf.keras`."
     ]
    }
   ],
   "source": [
    "predictions = model.predict(data)\n",
    "from sklearn.metrics import confusion_matrix, ConfusionMatrixDisplay\n",
    "# cm = confusion_matrix(labels, predictions, labels=class_names)\n",
    "# cm"
   ]
  },
  {
   "cell_type": "code",
   "execution_count": 199,
   "metadata": {},
   "outputs": [
    {
     "data": {
      "text/plain": [
       "'C:\\\\Users\\\\mkingsl6\\\\Desktop\\\\verfication_data_mike\\\\Deadlift\\\\1.jpg'"
      ]
     },
     "execution_count": 199,
     "metadata": {},
     "output_type": "execute_result"
    }
   ],
   "source": [
    "img = deadlift_test + \"\\\\\" + deadlift_testlist[0]\n",
    "img"
   ]
  },
  {
   "cell_type": "code",
   "execution_count": 179,
   "metadata": {},
   "outputs": [
    {
     "name": "stdout",
     "output_type": "stream",
     "text": [
      "1/1 [==============================] - 0s 29ms/step\n"
     ]
    }
   ],
   "source": [
    "image = cv2.imread(img)\n",
    "image = tf.image.resize(image, (224, 224))  # Resize the image\n",
    "image = tf.keras.applications.mobilenet_v2.preprocess_input(image)  # Pre-process the image for the model\n",
    "image = image[None, ...]  # Add a batch dimension to the image\n",
    "\n",
    "# Use the model to classify the image\n",
    "predictions = model.predict(image)"
   ]
  },
  {
   "cell_type": "code",
   "execution_count": 180,
   "metadata": {},
   "outputs": [
    {
     "data": {
      "text/plain": [
       "array([[1.0487490e-03, 9.9895120e-01, 1.4753183e-30]], dtype=float32)"
      ]
     },
     "execution_count": 180,
     "metadata": {},
     "output_type": "execute_result"
    }
   ],
   "source": [
    "predictions"
   ]
  },
  {
   "cell_type": "code",
   "execution_count": 62,
   "metadata": {},
   "outputs": [
    {
     "data": {
      "text/plain": [
       "<tf.Tensor: shape=(), dtype=float32, numpy=0.54265463>"
      ]
     },
     "execution_count": 62,
     "metadata": {},
     "output_type": "execute_result"
    }
   ],
   "source": [
    "tf.nn.softmax(predictions)[0, tf.argmax(predictions[0])]"
   ]
  },
  {
   "cell_type": "code",
   "execution_count": 68,
   "metadata": {},
   "outputs": [
    {
     "data": {
      "text/plain": [
       "<tf.Tensor: shape=(), dtype=int64, numpy=1>"
      ]
     },
     "execution_count": 68,
     "metadata": {},
     "output_type": "execute_result"
    }
   ],
   "source": [
    "f = tf.argmax([1,2], axis = 0)\n",
    "f"
   ]
  },
  {
   "cell_type": "code",
   "execution_count": null,
   "metadata": {},
   "outputs": [],
   "source": [
    "custom_dataset = train_.flow_from_directory(\n",
    "    TRAIN_DIR,\n",
    "    target_size = (224, 224),\n",
    "    subset='validation',\n",
    "    class_mode='categorical',\n",
    "    batch_size = 10,\n",
    ")"
   ]
  },
  {
   "cell_type": "markdown",
   "metadata": {},
   "source": [
    "# Brute force way "
   ]
  },
  {
   "cell_type": "code",
   "execution_count": 181,
   "metadata": {},
   "outputs": [
    {
     "name": "stdout",
     "output_type": "stream",
     "text": [
      "1/1 [==============================] - 0s 30ms/step\n",
      "1/1 [==============================] - 0s 27ms/step\n",
      "1/1 [==============================] - 0s 26ms/step\n",
      "1/1 [==============================] - 0s 28ms/step\n",
      "1/1 [==============================] - 0s 27ms/step\n",
      "1/1 [==============================] - 0s 29ms/step\n",
      "1/1 [==============================] - 0s 28ms/step\n",
      "1/1 [==============================] - 0s 29ms/step\n",
      "1/1 [==============================] - 0s 27ms/step\n",
      "1/1 [==============================] - 0s 28ms/step\n",
      "1/1 [==============================] - 0s 29ms/step\n",
      "1/1 [==============================] - 0s 27ms/step\n",
      "1/1 [==============================] - 0s 30ms/step\n",
      "1/1 [==============================] - 0s 28ms/step\n",
      "1/1 [==============================] - 0s 31ms/step\n",
      "1/1 [==============================] - 0s 29ms/step\n",
      "1/1 [==============================] - 0s 28ms/step\n"
     ]
    }
   ],
   "source": [
    "import glob\n",
    "# bench_testlist = glob.glob(bench_test)\n",
    "bench_testlist=os.listdir(bench_test)\n",
    "predictions = []\n",
    "# deadlift_testlist = glob.glob(deadlift_test)\n",
    "deadlift_testlist=os.listdir(deadlift_test)\n",
    "\n",
    "# squats_test = glob.glob(squats_test)\n",
    "squats_testlist=os.listdir(squats_test)\n",
    "\n",
    "data = []\n",
    "labels = []\n",
    "\n",
    "for i in bench_testlist:\n",
    "    i = bench_test + \"\\\\\"+ i\n",
    "    image = cv2.imread(i)\n",
    "    image = tf.image.resize(image, (224, 224))  # Resize the image\n",
    "    image = tf.keras.applications.mobilenet_v2.preprocess_input(image)  # Pre-process the image for the model\n",
    "    image = image[None, ...]  # Add a batch dimension to the image\n",
    "    # data.append(image)\n",
    "    predictions.append(model.predict(image))\n",
    "    labels.append(0)\n",
    "\n",
    "for i in deadlift_testlist:\n",
    "    # print(i)\n",
    "    i = deadlift_test + \"\\\\\"+ i \n",
    "    # print(i)\n",
    "    image = cv2.imread(i)\n",
    "    image = tf.image.resize(image, (224, 224))  # Resize the image\n",
    "    image = tf.keras.applications.mobilenet_v2.preprocess_input(image)  # Pre-process the image for the model\n",
    "    image = image[None, ...]  # Add a batch dimension to the image\n",
    "    # data.append(image)\n",
    "    predictions.append(model.predict(image))\n",
    "    labels.append(1)\n",
    "\n",
    "for i in squats_testlist:\n",
    "    i = squats_test + \"\\\\\"+ i \n",
    "    image = cv2.imread(i)\n",
    "    image = tf.image.resize(image, (224, 224))  # Resize the image\n",
    "    image = tf.keras.applications.mobilenet_v2.preprocess_input(image)  # Pre-process the image for the model\n",
    "    image = image[None, ...]  # Add a batch dimension to the image\n",
    "    # data.append(image)\n",
    "    predictions.append(model.predict(image))\n",
    "    labels.append(2)\n",
    "\n",
    "data = np.array(data)\n",
    "labels = np.array(labels)\n",
    "predictions = np.array(predictions)"
   ]
  },
  {
   "cell_type": "code",
   "execution_count": 198,
   "metadata": {},
   "outputs": [
    {
     "data": {
      "text/plain": [
       "[0, 2, 0, 2, 2, 0, 0, 1, 1, 1, 1, 1, 0, 1, 1, 1, 1]"
      ]
     },
     "execution_count": 198,
     "metadata": {},
     "output_type": "execute_result"
    }
   ],
   "source": [
    "[np.argmax( predictions[i]) for i in range(len(predictions)) ]"
   ]
  },
  {
   "cell_type": "code",
   "execution_count": 200,
   "metadata": {},
   "outputs": [
    {
     "data": {
      "text/plain": [
       "array([0, 0, 0, 0, 0, 0, 0, 1, 1, 1, 1, 1, 2, 2, 2, 2, 2])"
      ]
     },
     "execution_count": 200,
     "metadata": {},
     "output_type": "execute_result"
    }
   ],
   "source": [
    "labels"
   ]
  },
  {
   "cell_type": "code",
   "execution_count": null,
   "metadata": {},
   "outputs": [],
   "source": []
  }
 ],
 "metadata": {
  "accelerator": "GPU",
  "colab": {
   "collapsed_sections": [],
   "name": "cnn.ipynb",
   "toc_visible": true
  },
  "kernelspec": {
   "display_name": "Python 3.9.15 ('tensor')",
   "language": "python",
   "name": "python3"
  },
  "language_info": {
   "codemirror_mode": {
    "name": "ipython",
    "version": 3
   },
   "file_extension": ".py",
   "mimetype": "text/x-python",
   "name": "python",
   "nbconvert_exporter": "python",
   "pygments_lexer": "ipython3",
   "version": "3.9.15"
  },
  "vscode": {
   "interpreter": {
    "hash": "cd205e405f816b0d87a3d75b6b3ff4a133f84e1c1faa0d9744a0b4862d5af959"
   }
  }
 },
 "nbformat": 4,
 "nbformat_minor": 0
}
