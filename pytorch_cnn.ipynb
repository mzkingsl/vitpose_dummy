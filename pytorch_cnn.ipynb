{
 "cells": [
  {
   "cell_type": "code",
   "execution_count": 27,
   "metadata": {},
   "outputs": [],
   "source": [
    "import cv2\n",
    "import numpy as np\n",
    "import tensorflow as tf\n",
    "from tensorflow.keras.optimizers import RMSprop\n",
    "from keras.models import Sequential\n",
    "from keras.layers import Conv2D, MaxPooling2D,Flatten,Dense\n",
    "from keras.preprocessing import image\n",
    "from keras.preprocessing.image import ImageDataGenerator\n",
    "from PIL import ImageFile\n",
    "from PIL import Image\n",
    "ImageFile.LOAD_TRUNCATED_IMAGES = True"
   ]
  },
  {
   "cell_type": "code",
   "execution_count": 28,
   "metadata": {},
   "outputs": [],
   "source": [
    "\n",
    "CLASS_NAMES = ['Bench', 'Deadlift','Squat']\n"
   ]
  },
  {
   "cell_type": "code",
   "execution_count": 29,
   "metadata": {},
   "outputs": [],
   "source": [
    "# import images\n",
    "#change user\n",
    "path = \"C:\\\\Users\\\\mkingsl6\\\\Desktop\\\\ViTPose-main\\\\LiftingData_cnn\"\n",
    "deadlift = path + \"\\\\Deadlift\"\n",
    "bench = path + \"\\\\Bench\"\n",
    "squats = path + \"\\\\Squat\""
   ]
  },
  {
   "cell_type": "code",
   "execution_count": 30,
   "metadata": {},
   "outputs": [],
   "source": [
    "# Convert deadlift to jpg\n",
    "pos_paths_list = [deadlift, bench, squats]\n",
    "\n",
    "for pos_paths in pos_paths_list:\n",
    "    for file in os.listdir(pos_paths):\n",
    "        # check the files which are end with specific extension\n",
    "        if file.endswith(\".png\"):\n",
    "            # print path name of selected files\n",
    "            file_path = os.path.join(pos_paths, file)\n",
    "            # print(file_path)\n",
    "            im = Image.open(file_path)\n",
    "            new_name = file.split(\".\")[0] + \".jpg\"\n",
    "            # im.save(new_name)\n",
    "            Image.open(file_path).convert('RGB').save(pos_paths+\"\\\\\"+new_name)\n",
    "\n",
    "\n",
    "    for file in os.listdir(pos_paths):\n",
    "        # check the files which are end with specific extension\n",
    "        if file.endswith(\".jpeg\"):\n",
    "            # print path name of selected files\n",
    "            file_path = os.path.join(pos_paths, file)\n",
    "            # print(file_path)\n",
    "            im = Image.open(file_path)\n",
    "            new_name = file.split(\".\")[0] + \".jpg\"\n",
    "            # im.save(new_name)\n",
    "            Image.open(file_path).convert('RGB').save(pos_paths+\"\\\\\"+new_name)\n"
   ]
  },
  {
   "cell_type": "code",
   "execution_count": 31,
   "metadata": {},
   "outputs": [
    {
     "name": "stdout",
     "output_type": "stream",
     "text": [
      "Found 696 images belonging to 3 classes.\n",
      "Found 696 images belonging to 3 classes.\n"
     ]
    }
   ],
   "source": [
    "train_datagen = ImageDataGenerator(rescale = 1./255,\n",
    "                                   shear_range = 0.2,\n",
    "                                   zoom_range = 0.2,\n",
    "                                   horizontal_flip = True)\n",
    "\n",
    "test_datagen = ImageDataGenerator(rescale = 1./255)\n",
    "\n",
    "training_set = train_datagen.flow_from_directory(r'C:\\\\Users\\\\mkingsl6\\\\Desktop\\\\ViTPose-main\\\\LiftingData_cnn',\n",
    "                                                 target_size = (64, 64),\n",
    "                                                 batch_size = 32,\n",
    "                                                 classes  = CLASS_NAMES ,\n",
    "                                                 class_mode = 'categorical')\n",
    "\n",
    "test_set = test_datagen.flow_from_directory(r'C:\\\\Users\\\\mkingsl6\\\\Desktop\\\\ViTPose-main\\\\LiftingData_cnn',\n",
    "                                            target_size = (64, 64),\n",
    "                                            batch_size = 32,\n",
    "                                            classes  = CLASS_NAMES ,\n",
    "                                            class_mode = 'categorical')\n"
   ]
  },
  {
   "cell_type": "code",
   "execution_count": 32,
   "metadata": {},
   "outputs": [],
   "source": [
    "# # normalise the pixel values\n",
    "# train_ = ImageDataGenerator(validation_split = .2, rescale=1./255)\n",
    "# TRAIN_DIR = path\n",
    "# train_dataset = train_.flow_from_directory(\n",
    "#     TRAIN_DIR,\n",
    "#     target_size = (224, 224),\n",
    "#     subset='training',\n",
    "#     batch_size = 32,\n",
    "#     class_mode='categorical'\n",
    "# )\n",
    "\n",
    "# validation_dataset = train_.flow_from_directory(\n",
    "#     TRAIN_DIR,\n",
    "#     target_size = (224, 224),\n",
    "#     subset='validation',\n",
    "#     class_mode='categorical',\n",
    "#     batch_size = 32,\n",
    "# )"
   ]
  },
  {
   "cell_type": "code",
   "execution_count": 33,
   "metadata": {},
   "outputs": [],
   "source": [
    "train_y=train_dataset.classes\n",
    "test_y=validation_dataset.classes\n",
    "val_y=validation_dataset.classes"
   ]
  },
  {
   "cell_type": "code",
   "execution_count": 34,
   "metadata": {},
   "outputs": [
    {
     "data": {
      "text/plain": [
       "{'Bench': 0, 'Deadlift': 1, 'Squat': 2}"
      ]
     },
     "execution_count": 34,
     "metadata": {},
     "output_type": "execute_result"
    }
   ],
   "source": [
    "validation_dataset.class_indices\n"
   ]
  },
  {
   "cell_type": "code",
   "execution_count": 35,
   "metadata": {},
   "outputs": [
    {
     "name": "stdout",
     "output_type": "stream",
     "text": [
      "Model: \"sequential\"\n",
      "_________________________________________________________________\n",
      " Layer (type)                Output Shape              Param #   \n",
      "=================================================================\n",
      " conv2d (Conv2D)             (None, 62, 62, 16)        448       \n",
      "                                                                 \n",
      " max_pooling2d (MaxPooling2D  (None, 31, 31, 16)       0         \n",
      " )                                                               \n",
      "                                                                 \n",
      " conv2d_1 (Conv2D)           (None, 29, 29, 32)        4640      \n",
      "                                                                 \n",
      " max_pooling2d_1 (MaxPooling  (None, 14, 14, 32)       0         \n",
      " 2D)                                                             \n",
      "                                                                 \n",
      " flatten (Flatten)           (None, 6272)              0         \n",
      "                                                                 \n",
      " dense (Dense)               (None, 128)               802944    \n",
      "                                                                 \n",
      " dense_1 (Dense)             (None, 3)                 387       \n",
      "                                                                 \n",
      "=================================================================\n",
      "Total params: 808,419\n",
      "Trainable params: 808,419\n",
      "Non-trainable params: 0\n",
      "_________________________________________________________________\n"
     ]
    }
   ],
   "source": [
    "model.summary()\n"
   ]
  },
  {
   "cell_type": "code",
   "execution_count": 36,
   "metadata": {},
   "outputs": [
    {
     "name": "stderr",
     "output_type": "stream",
     "text": [
      "WARNING:absl:`lr` is deprecated, please use `learning_rate` instead, or use the legacy optimizer, e.g.,tf.keras.optimizers.legacy.RMSprop.\n"
     ]
    }
   ],
   "source": [
    "opt = RMSprop(lr=0.001)\n",
    "model.compile(loss='categorical_crossentropy',\n",
    "                            optimizer=opt,\n",
    "                            metrics=['accuracy'])\n",
    "\n"
   ]
  },
  {
   "cell_type": "code",
   "execution_count": null,
   "metadata": {},
   "outputs": [],
   "source": []
  },
  {
   "cell_type": "code",
   "execution_count": 37,
   "metadata": {},
   "outputs": [
    {
     "name": "stdout",
     "output_type": "stream",
     "text": [
      "22/22 [==============================] - 5s 222ms/step - loss: 1.1040 - accuracy: 0.2917\n",
      "Loss  :  1.104007601737976\n",
      "Accuracy  : 0.2916666567325592\n"
     ]
    }
   ],
   "source": [
    "test_loss, test_accuracy = model.evaluate(test_set, verbose=1)\n",
    "print(\"Loss  : \", test_loss)\n",
    "print(\"Accuracy  :\",test_accuracy)\n"
   ]
  },
  {
   "cell_type": "code",
   "execution_count": null,
   "metadata": {},
   "outputs": [],
   "source": []
  },
  {
   "cell_type": "code",
   "execution_count": null,
   "metadata": {},
   "outputs": [],
   "source": []
  }
 ],
 "metadata": {
  "kernelspec": {
   "display_name": "Python 3.10.8 ('cnn_notebook')",
   "language": "python",
   "name": "python3"
  },
  "language_info": {
   "codemirror_mode": {
    "name": "ipython",
    "version": 3
   },
   "file_extension": ".py",
   "mimetype": "text/x-python",
   "name": "python",
   "nbconvert_exporter": "python",
   "pygments_lexer": "ipython3",
   "version": "3.10.8"
  },
  "orig_nbformat": 4,
  "vscode": {
   "interpreter": {
    "hash": "3e03d5c99657cd8f0367d2796ecd49a40539720e9292dc019d0e5f9d5be6ae7f"
   }
  }
 },
 "nbformat": 4,
 "nbformat_minor": 2
}
