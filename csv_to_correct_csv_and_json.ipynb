{
 "cells": [
  {
   "cell_type": "code",
   "execution_count": 1,
   "metadata": {},
   "outputs": [],
   "source": [
    "import cv2\n",
    "import numpy as np\n",
    "import pandas as pd \n",
    "import json\n",
    "import glob\n",
    "import os\n",
    "from PIL import Image\n",
    "import random\n"
   ]
  },
  {
   "cell_type": "code",
   "execution_count": 7,
   "metadata": {},
   "outputs": [
    {
     "data": {
      "text/html": [
       "<div>\n",
       "<style scoped>\n",
       "    .dataframe tbody tr th:only-of-type {\n",
       "        vertical-align: middle;\n",
       "    }\n",
       "\n",
       "    .dataframe tbody tr th {\n",
       "        vertical-align: top;\n",
       "    }\n",
       "\n",
       "    .dataframe thead th {\n",
       "        text-align: right;\n",
       "    }\n",
       "</style>\n",
       "<table border=\"1\" class=\"dataframe\">\n",
       "  <thead>\n",
       "    <tr style=\"text-align: right;\">\n",
       "      <th></th>\n",
       "      <th>Name</th>\n",
       "      <th>Class</th>\n",
       "    </tr>\n",
       "  </thead>\n",
       "  <tbody>\n",
       "    <tr>\n",
       "      <th>0</th>\n",
       "      <td>../liftingdata/bench/bench44.jpg</td>\n",
       "      <td>0</td>\n",
       "    </tr>\n",
       "    <tr>\n",
       "      <th>1</th>\n",
       "      <td>../liftingdata/bench/bench50.jpg</td>\n",
       "      <td>0</td>\n",
       "    </tr>\n",
       "    <tr>\n",
       "      <th>2</th>\n",
       "      <td>../liftingdata/bench/rotatedbench75.jpg</td>\n",
       "      <td>0</td>\n",
       "    </tr>\n",
       "    <tr>\n",
       "      <th>3</th>\n",
       "      <td>../liftingdata/bench/bench78.jpg</td>\n",
       "      <td>0</td>\n",
       "    </tr>\n",
       "    <tr>\n",
       "      <th>4</th>\n",
       "      <td>../liftingdata/bench/rotatedbench49.jpg</td>\n",
       "      <td>0</td>\n",
       "    </tr>\n",
       "    <tr>\n",
       "      <th>...</th>\n",
       "      <td>...</td>\n",
       "      <td>...</td>\n",
       "    </tr>\n",
       "    <tr>\n",
       "      <th>889</th>\n",
       "      <td>../liftingdata/squat/52.jpg</td>\n",
       "      <td>2</td>\n",
       "    </tr>\n",
       "    <tr>\n",
       "      <th>890</th>\n",
       "      <td>../liftingdata/squat/rotated79.jpg</td>\n",
       "      <td>2</td>\n",
       "    </tr>\n",
       "    <tr>\n",
       "      <th>891</th>\n",
       "      <td>../liftingdata/squat/46.jpg</td>\n",
       "      <td>2</td>\n",
       "    </tr>\n",
       "    <tr>\n",
       "      <th>892</th>\n",
       "      <td>../liftingdata/squat/rotated45.jpg</td>\n",
       "      <td>2</td>\n",
       "    </tr>\n",
       "    <tr>\n",
       "      <th>893</th>\n",
       "      <td>../liftingdata/squat/rotated51.jpg</td>\n",
       "      <td>2</td>\n",
       "    </tr>\n",
       "  </tbody>\n",
       "</table>\n",
       "<p>894 rows × 2 columns</p>\n",
       "</div>"
      ],
      "text/plain": [
       "                                        Name  Class\n",
       "0           ../liftingdata/bench/bench44.jpg      0\n",
       "1           ../liftingdata/bench/bench50.jpg      0\n",
       "2    ../liftingdata/bench/rotatedbench75.jpg      0\n",
       "3           ../liftingdata/bench/bench78.jpg      0\n",
       "4    ../liftingdata/bench/rotatedbench49.jpg      0\n",
       "..                                       ...    ...\n",
       "889              ../liftingdata/squat/52.jpg      2\n",
       "890       ../liftingdata/squat/rotated79.jpg      2\n",
       "891              ../liftingdata/squat/46.jpg      2\n",
       "892       ../liftingdata/squat/rotated45.jpg      2\n",
       "893       ../liftingdata/squat/rotated51.jpg      2\n",
       "\n",
       "[894 rows x 2 columns]"
      ]
     },
     "execution_count": 7,
     "metadata": {},
     "output_type": "execute_result"
    }
   ],
   "source": [
    "csv = pd.read_csv('C:\\\\Users\\\\amart50\\\\Desktop\\\\ViTPose\\\\298_scripts\\\\name_class_torch2.csv')\n",
    "csv.drop(columns=['Unnamed: 0'], inplace=True)\n",
    "csv\n",
    "#rename all paths in Name\n"
   ]
  },
  {
   "cell_type": "code",
   "execution_count": 5,
   "metadata": {},
   "outputs": [
    {
     "ename": "FileNotFoundError",
     "evalue": "[WinError 3] The system cannot find the path specified: '../liftingdata/bench/bench44.jpg' -> 'C:\\\\Users\\\\amart50\\\\Desktop\\\\liftingdata\\\\bench0.jpg'",
     "output_type": "error",
     "traceback": [
      "\u001b[1;31m---------------------------------------------------------------------------\u001b[0m",
      "\u001b[1;31mFileNotFoundError\u001b[0m                         Traceback (most recent call last)",
      "\u001b[1;32mc:\\Users\\amart50\\Desktop\\ViTPose\\298_scripts\\csv_to_correct_csv_and_json.ipynb Cell 3\u001b[0m in \u001b[0;36m<cell line: 3>\u001b[1;34m()\u001b[0m\n\u001b[0;32m      <a href='vscode-notebook-cell:/c%3A/Users/amart50/Desktop/ViTPose/298_scripts/csv_to_correct_csv_and_json.ipynb#W2sZmlsZQ%3D%3D?line=6'>7</a>\u001b[0m     new_name \u001b[39m=\u001b[39m path\u001b[39m+\u001b[39m\u001b[39m'\u001b[39m\u001b[39mbench\u001b[39m\u001b[39m'\u001b[39m \u001b[39m+\u001b[39m \u001b[39mstr\u001b[39m(i) \u001b[39m+\u001b[39m \u001b[39m'\u001b[39m\u001b[39m.jpg\u001b[39m\u001b[39m'\u001b[39m\n\u001b[0;32m      <a href='vscode-notebook-cell:/c%3A/Users/amart50/Desktop/ViTPose/298_scripts/csv_to_correct_csv_and_json.ipynb#W2sZmlsZQ%3D%3D?line=7'>8</a>\u001b[0m     \u001b[39m#new file with new name \u001b[39;00m\n\u001b[1;32m----> <a href='vscode-notebook-cell:/c%3A/Users/amart50/Desktop/ViTPose/298_scripts/csv_to_correct_csv_and_json.ipynb#W2sZmlsZQ%3D%3D?line=8'>9</a>\u001b[0m     os\u001b[39m.\u001b[39;49mrename(name, new_name)\n\u001b[0;32m     <a href='vscode-notebook-cell:/c%3A/Users/amart50/Desktop/ViTPose/298_scripts/csv_to_correct_csv_and_json.ipynb#W2sZmlsZQ%3D%3D?line=9'>10</a>\u001b[0m \u001b[39melif\u001b[39;00m csv[\u001b[39m'\u001b[39m\u001b[39mClass\u001b[39m\u001b[39m'\u001b[39m][i] \u001b[39m==\u001b[39m \u001b[39m1\u001b[39m:\n\u001b[0;32m     <a href='vscode-notebook-cell:/c%3A/Users/amart50/Desktop/ViTPose/298_scripts/csv_to_correct_csv_and_json.ipynb#W2sZmlsZQ%3D%3D?line=10'>11</a>\u001b[0m     new_name \u001b[39m=\u001b[39m \u001b[39m'\u001b[39m\u001b[39mdeadlift\u001b[39m\u001b[39m'\u001b[39m \u001b[39m+\u001b[39m \u001b[39mstr\u001b[39m(i) \u001b[39m+\u001b[39m \u001b[39m'\u001b[39m\u001b[39m.jpg\u001b[39m\u001b[39m'\u001b[39m\n",
      "\u001b[1;31mFileNotFoundError\u001b[0m: [WinError 3] The system cannot find the path specified: '../liftingdata/bench/bench44.jpg' -> 'C:\\\\Users\\\\amart50\\\\Desktop\\\\liftingdata\\\\bench0.jpg'"
     ]
    }
   ],
   "source": [
    "#rename each image to the correct name in Name\n",
    "path = 'C:\\\\Users\\\\amart50\\\\Desktop\\\\liftingdata\\\\'\n",
    "for i in range(len(csv)):\n",
    "    name = csv['Name'][i]\n",
    "    if csv['Class'][i] == 0:\n",
    "        new_name = path+'bench' + str(i) + '.jpg'\n",
    "        #new file with new name \n",
    "        os.rename(name, new_name)\n",
    "    elif csv['Class'][i] == 1:\n",
    "        new_name = 'deadlift' + str(i) + '.jpg'\n",
    "        os.rename(name, new_name)\n",
    "    elif csv['Class'][i] == 2:\n",
    "        new_name = 'squat' + str(i) + '.jpg'\n",
    "        os.rename(name, new_name)\n"
   ]
  }
 ],
 "metadata": {
  "kernelspec": {
   "display_name": "Python ('notebooks')",
   "language": "python",
   "name": "python3"
  },
  "language_info": {
   "codemirror_mode": {
    "name": "ipython",
    "version": 3
   },
   "file_extension": ".py",
   "mimetype": "text/x-python",
   "name": "python",
   "nbconvert_exporter": "python",
   "pygments_lexer": "ipython3",
   "version": "3.9.12"
  },
  "orig_nbformat": 4,
  "vscode": {
   "interpreter": {
    "hash": "25a19fbe0a9132dfb9279d48d161753c6352f8f9478c2e74383d340069b907c3"
   }
  }
 },
 "nbformat": 4,
 "nbformat_minor": 2
}
