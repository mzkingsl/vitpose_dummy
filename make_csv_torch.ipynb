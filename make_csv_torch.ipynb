{
 "cells": [
  {
   "cell_type": "code",
   "execution_count": 73,
   "metadata": {},
   "outputs": [],
   "source": [
    "import cv2\n",
    "import numpy as np\n",
    "import pandas as pd \n",
    "import json\n",
    "import glob\n",
    "import os\n",
    "from PIL import Image\n",
    "import random\n"
   ]
  },
  {
   "cell_type": "code",
   "execution_count": 74,
   "metadata": {},
   "outputs": [],
   "source": [
    "# import images\n",
    "#change user\n",
    "path = \"C:\\\\Users\\\\amart50\\\\Desktop\\\\\" # change it for ur directory where lifting data is saved"
   ]
  },
  {
   "cell_type": "code",
   "execution_count": 75,
   "metadata": {},
   "outputs": [],
   "source": [
    "Name = []\n",
    "Class = []"
   ]
  },
  {
   "cell_type": "code",
   "execution_count": 76,
   "metadata": {},
   "outputs": [],
   "source": [
    "path_bench = path+ \"Data\\\\bench\"\n",
    "path_deadlift = path+ \"Data\\\\deadlift\"\n",
    "path_squat = path + \"Data\\\\squat\"\n",
    "\n",
    "path_list = [path_bench, path_deadlift, path_squat]\n",
    "for i in range(len(path_list)):\n",
    "    path = path_list[i]\n",
    "    for file in os.listdir(path):\n",
    "        # check the files which are end with specific extension\n",
    "        if file.endswith(\".jpg\"):\n",
    "            # # print path name of selected files\n",
    "            # file_path = os.path.join(path, file)\n",
    "            # print(file_path)\n",
    "            file_name = os.path.splitext(file)[0] + '.jpg'\n",
    "            #remove path from file_name\n",
    "            file_name = file_name.split(\"\\\\\")[-1]\n",
    "            if path == path_bench:\n",
    "                file_name = 'bench/'+ file_name\n",
    "            elif path == path_deadlift:\n",
    "                file_name = 'deadlift/'+ file_name\n",
    "            elif path == path_squat:\n",
    "                file_name = 'squat/'+ file_name\n",
    "            # file_name = 'bench/'+ file_name\n",
    "            Name.append(file_name)\n",
    "            Class.append(i)"
   ]
  },
  {
   "cell_type": "code",
   "execution_count": 77,
   "metadata": {},
   "outputs": [
    {
     "data": {
      "text/plain": [
       "(1046, 1046)"
      ]
     },
     "execution_count": 77,
     "metadata": {},
     "output_type": "execute_result"
    }
   ],
   "source": [
    "len(Class), len(Name)"
   ]
  },
  {
   "cell_type": "code",
   "execution_count": 78,
   "metadata": {},
   "outputs": [],
   "source": [
    "df = pd.DataFrame({'Name': Name, \"Class\": Class})\n",
    "df.to_csv('C:\\\\Users\\\\amart50\\\\Desktop\\\\name_class_torch.csv')"
   ]
  },
  {
   "cell_type": "code",
   "execution_count": null,
   "metadata": {},
   "outputs": [],
   "source": []
  }
 ],
 "metadata": {
  "kernelspec": {
   "display_name": "Python 3.9.12 ('base')",
   "language": "python",
   "name": "python3"
  },
  "language_info": {
   "codemirror_mode": {
    "name": "ipython",
    "version": 3
   },
   "file_extension": ".py",
   "mimetype": "text/x-python",
   "name": "python",
   "nbconvert_exporter": "python",
   "pygments_lexer": "ipython3",
   "version": "3.9.12"
  },
  "orig_nbformat": 4,
  "vscode": {
   "interpreter": {
    "hash": "ad2bdc8ecc057115af97d19610ffacc2b4e99fae6737bb82f5d7fb13d2f2c186"
   }
  }
 },
 "nbformat": 4,
 "nbformat_minor": 2
}
