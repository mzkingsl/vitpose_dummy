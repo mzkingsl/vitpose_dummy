{
 "cells": [
  {
   "cell_type": "code",
   "execution_count": 6,
   "metadata": {},
   "outputs": [],
   "source": [
    "import json\n",
    "import numpy as np"
   ]
  },
  {
   "cell_type": "code",
   "execution_count": 7,
   "metadata": {},
   "outputs": [],
   "source": [
    "json_path = '/Users/alexmartin/Documents/GitHub/298/ViTPose/tests/data/coco/test_coco.json'"
   ]
  },
  {
   "cell_type": "code",
   "execution_count": 8,
   "metadata": {},
   "outputs": [],
   "source": [
    "def get_keypoints(coco_json):\n",
    "    \"\"\"\n",
    "    \"keypoints\": [\n",
    "                \"nose\",\n",
    "                \"left_eye\",\n",
    "                \"right_eye\",\n",
    "                \"left_ear\",\n",
    "                \"right_ear\",\n",
    "                \"left_shoulder\",\n",
    "                \"right_shoulder\",\n",
    "                \"left_elbow\",\n",
    "                \"right_elbow\",\n",
    "                \"left_wrist\",\n",
    "                \"right_wrist\",\n",
    "                \"left_hip\",\n",
    "                \"right_hip\",\n",
    "                \"left_knee\",\n",
    "                \"right_knee\",\n",
    "                \"left_ankle\",\n",
    "                \"right_ankle\"\n",
    "            ],\n",
    "    \"\"\"\n",
    "    keypoints_arr = coco_json['annotations'][0]['keypoints']\n",
    "\n",
    "    keypoints = {}\n",
    "    \n",
    "    keypoints['nose'] = keypoints_arr[1:3]\n",
    "    keypoints['left_eye'] = keypoints_arr[3:5]\n",
    "    keypoints['right_eye'] = keypoints_arr[5:7]\n",
    "    keypoints['left_ear'] = keypoints_arr[7:9]\n",
    "    keypoints['right_ear'] = keypoints_arr[9:11]\n",
    "    keypoints['left_shoulder'] = keypoints_arr[11:13]\n",
    "    keypoints['right_shoulder'] = keypoints_arr[13:15]\n",
    "    keypoints['left_elbow'] = keypoints_arr[15:17]\n",
    "    keypoints['right_elbow'] = keypoints_arr[17:19]\n",
    "    keypoints['left_wrist'] = keypoints_arr[19:21]\n",
    "    keypoints['right_wrist'] = keypoints_arr[21:23]\n",
    "    keypoints['left_hip'] = keypoints_arr[23:25]\n",
    "    keypoints['right_hip'] = keypoints_arr[25:27]\n",
    "    keypoints['left_knee'] = keypoints_arr[27:29]\n",
    "    keypoints['right_knee'] = keypoints_arr[29:31]\n",
    "    keypoints['left_ankle'] = keypoints_arr[31:33]\n",
    "    keypoints['right_ankle'] = keypoints_arr[33:35]\n",
    "\n",
    "def compare_estimation(estimate_keypoints, gold_keypoints, points):\n",
    "    #measure distance between keypoints\n",
    "    gold = []\n",
    "    estimate = []\n",
    "    for i in points:\n",
    "        gold.append(gold_keypoints[i])\n",
    "        estimate.append(estimate_keypoints[i])\n",
    "\n",
    "    #make a list of distances between each gold point\n",
    "    gold_distances = []\n",
    "    for i in gold:\n",
    "        for j in gold:\n",
    "            gold_distances.append(np.linalg.norm(i-j))\n",
    "\n",
    "    #make a list of distances between each estimate point\n",
    "    estimate_distances = []\n",
    "    for i in estimate:\n",
    "        for j in estimate:\n",
    "            estimate_distances.append(np.linalg.norm(i-j))\n",
    "\n",
    "    #compare distances ratios between gold and estimate\n",
    "    ratios = []\n",
    "    for i in range(len(gold_distances)):\n",
    "        ratios.append(estimate_distances[i]/gold_distances[i]) \n",
    "\n",
    "\n",
    "\n",
    "def evaluate_estimation(coco_json):\n",
    "    keypoints = get_keypoints(coco_json)\n",
    "\n",
    "    #measure distance between keypoints"
   ]
  }
 ],
 "metadata": {
  "kernelspec": {
   "display_name": "Python 3.10.8 ('vitpose_notebooks')",
   "language": "python",
   "name": "python3"
  },
  "language_info": {
   "codemirror_mode": {
    "name": "ipython",
    "version": 3
   },
   "file_extension": ".py",
   "mimetype": "text/x-python",
   "name": "python",
   "nbconvert_exporter": "python",
   "pygments_lexer": "ipython3",
   "version": "3.9.15"
  },
  "orig_nbformat": 4,
  "vscode": {
   "interpreter": {
    "hash": "1b219a04cdbf01cc0dd0c7e7a96ab0905afbac2fd43b1417b4a2747b20bc1f0d"
   }
  }
 },
 "nbformat": 4,
 "nbformat_minor": 2
}
