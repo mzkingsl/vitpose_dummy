{
 "cells": [
  {
   "cell_type": "code",
   "execution_count": 71,
   "metadata": {},
   "outputs": [],
   "source": [
    "import cv2\n",
    "import numpy as np\n",
    "import pandas as pd \n",
    "import json\n",
    "import glob\n",
    "import os\n",
    "from PIL import Image"
   ]
  },
  {
   "cell_type": "code",
   "execution_count": 72,
   "metadata": {},
   "outputs": [],
   "source": [
    "# import images\n",
    "#change user\n",
    "path_bench = \"C:\\\\Users\\\\amart50\\\\Desktop\\\\Data\\\\Squat\""
   ]
  },
  {
   "cell_type": "code",
   "execution_count": null,
   "metadata": {},
   "outputs": [],
   "source": []
  },
  {
   "cell_type": "code",
   "execution_count": 94,
   "metadata": {},
   "outputs": [],
   "source": [
    "#uncomment to rename all the files\n",
    "# for (idx,file) in enumerate(os.listdir(path_bench)):\n",
    "#     file_path = os.path.join(path_bench, file)\n",
    "#     im = Image.open(file_path)\n",
    "#     new_name = 'squat' + str(idx) + '.jpg'\n",
    "#     Image.open(file_path).convert('RGB').save(path_bench+\"\\\\\"+new_name)\n",
    "    "
   ]
  },
  {
   "cell_type": "code",
   "execution_count": 74,
   "metadata": {},
   "outputs": [],
   "source": [
    "# return all files as a list\n",
    "for file in os.listdir(path_bench):\n",
    "     # check the files which are end with specific extension\n",
    "    if file.endswith(\".png\"):\n",
    "        # print path name of selected files\n",
    "        file_path = os.path.join(path_bench, file)\n",
    "        # print(file_path)\n",
    "        im = Image.open(file_path)\n",
    "        new_name = 'daedlift'+file.split(\".\")[0] + \".jpg\"\n",
    "        # im.save(new_name)\n",
    "        Image.open(file_path).convert('RGB').save(path_bench+\"\\\\\"+new_name)\n",
    "        # print(im)"
   ]
  },
  {
   "cell_type": "code",
   "execution_count": 75,
   "metadata": {},
   "outputs": [],
   "source": [
    "# return all files as a list\n",
    "for file in os.listdir(path_bench):\n",
    "     # check the files which are end with specific extension\n",
    "    if file.endswith(\".jpeg\"):\n",
    "        # print path name of selected files\n",
    "        file_path = os.path.join(path_bench, file)\n",
    "        # print(file_path)\n",
    "        im = Image.open(file_path)\n",
    "        new_name = 'deadlift'+file.split(\".\")[0] + \".jpg\"\n",
    "        # im.save(new_name)\n",
    "        Image.open(file_path).convert('RGB').save(path_bench+\"\\\\\"+new_name)\n",
    "        # print(im)"
   ]
  },
  {
   "cell_type": "code",
   "execution_count": 76,
   "metadata": {},
   "outputs": [],
   "source": [
    "bench_dict = {}\n",
    "\n",
    "\n",
    "for file in os.listdir(path_bench):\n",
    "     # check the files which are end with specific extension\n",
    "    if file.endswith(\".JPG\"):\n",
    "        # print path name of selected files\n",
    "        file_path = os.path.join(path_bench, file)\n",
    "        file_number = 'deadlift'+file.split(\".\")[0]\n",
    "        # print(file_path)\n",
    "        im = cv2.imread(file_path)\n",
    "        bench_dict[file_number] = im\n",
    "        # bench_dict['20'].shape  # height, width, channel"
   ]
  },
  {
   "cell_type": "code",
   "execution_count": 77,
   "metadata": {},
   "outputs": [],
   "source": [
    "padded_id = [i.rjust(12,'0') for i in list( bench_dict.keys() ) ]"
   ]
  },
  {
   "cell_type": "code",
   "execution_count": 78,
   "metadata": {},
   "outputs": [],
   "source": [
    "height = [bench_dict[i].shape[0] for i in list( bench_dict.keys() ) ]\n",
    "width = [bench_dict[i].shape[1] for i in list( bench_dict.keys() ) ]"
   ]
  },
  {
   "cell_type": "code",
   "execution_count": 79,
   "metadata": {},
   "outputs": [],
   "source": [
    "json_dict = {}"
   ]
  },
  {
   "cell_type": "code",
   "execution_count": 80,
   "metadata": {},
   "outputs": [],
   "source": [
    "json_dict[\"info\"] = {\n",
    "        \"description\": \"Lifting data in COCO format\",\n",
    "        \"year\": 2022,\n",
    "        \"date_created\": \"2022/12/1\"\n",
    "    }"
   ]
  },
  {
   "cell_type": "code",
   "execution_count": 81,
   "metadata": {},
   "outputs": [],
   "source": [
    "json_dict[\"licenses\"] = []"
   ]
  },
  {
   "cell_type": "code",
   "execution_count": 82,
   "metadata": {},
   "outputs": [],
   "source": [
    "path = \"C:\\\\Users\\\\amart50\\\\Desktop\\\\ViTPose\\\\tests\\\\data\\\\coco\\\\test_coco.json\"\n",
    "coco = json.load(open(path))\n",
    "json_dict[\"categories\"] = coco['categories']"
   ]
  },
  {
   "cell_type": "code",
   "execution_count": 83,
   "metadata": {},
   "outputs": [],
   "source": [
    "json_dict[\"images\"] = []"
   ]
  },
  {
   "cell_type": "code",
   "execution_count": 84,
   "metadata": {},
   "outputs": [],
   "source": [
    "# image_keys = [\"license\", \"file_name\", \"coco_url\", \"height\", \"width\", \"date_captured\",\n",
    "#             \"flickr_url\", \"id\"]"
   ]
  },
  {
   "cell_type": "code",
   "execution_count": 85,
   "metadata": {},
   "outputs": [],
   "source": [
    "for i in range(len(bench_dict)):\n",
    "    temp = {}\n",
    "    temp[\"license\"] = None\n",
    "    temp[\"file_name\"] = padded_id[i] +'.jpg'\n",
    "    temp[\"coco_url\"] = None\n",
    "    temp[\"height\"] = height[i]\n",
    "    temp[\"width\"] = width[i]\n",
    "    temp[\"date_captured\"] = None\n",
    "    temp[\"flickr_url\"] = None\n",
    "    temp[\"id\"] = int( list( bench_dict.keys() )[i])\n",
    "\n",
    "    json_dict[\"images\"].append(temp)"
   ]
  },
  {
   "cell_type": "code",
   "execution_count": 86,
   "metadata": {},
   "outputs": [],
   "source": [
    "# segmentation list is of length 136\n",
    "json_dict[\"annotations\"] = []"
   ]
  },
  {
   "cell_type": "code",
   "execution_count": 87,
   "metadata": {},
   "outputs": [],
   "source": [
    "check =       [\n",
    "                    257.76,\n",
    "                    288.05,\n",
    "                    273.4,\n",
    "                    258.26,\n",
    "                    325.55,\n",
    "                    253.79,\n",
    "                    335.23,\n",
    "                    232.93,\n",
    "                    326.3,\n",
    "                    186.74,\n",
    "                    333.74,\n",
    "                    177.05,\n",
    "                    327.79,\n",
    "                    153.21,\n",
    "                    333.74,\n",
    "                    142.04,\n",
    "                    344.17,\n",
    "                    139.06,\n",
    "                    353.11,\n",
    "                    139.06,\n",
    "                    359.07,\n",
    "                    145.02,\n",
    "                    360.56,\n",
    "                    148.74,\n",
    "                    362.05,\n",
    "                    168.86,\n",
    "                    388.87,\n",
    "                    197.17,\n",
    "                    397.81,\n",
    "                    276.88,\n",
    "                    372.48,\n",
    "                    293.27\n",
    "                ]"
   ]
  },
  {
   "cell_type": "code",
   "execution_count": 88,
   "metadata": {},
   "outputs": [
    {
     "data": {
      "text/plain": [
       "32"
      ]
     },
     "execution_count": 88,
     "metadata": {},
     "output_type": "execute_result"
    }
   ],
   "source": [
    "len(check)\n",
    "\n"
   ]
  },
  {
   "cell_type": "code",
   "execution_count": 89,
   "metadata": {},
   "outputs": [],
   "source": [
    "import random\n",
    "for i in range(len(bench_dict)):\n",
    "    temp = {}\n",
    "    random_l = list(random.sample(range(100, 300), 32) )\n",
    "    temp[\"segmentation\"] = [random_l]\n",
    "    temp[\"num_keypoints\"] = 17\n",
    "    temp[\"iscrowd\"] = 0\n",
    "    temp[\"keypoints\"] = [10,10,2] * 17\n",
    "    temp[\"image_id\"] = int( list( bench_dict.keys() )[i])\n",
    "    xxx = min(width[i], height[i])\n",
    "    temp[\"area\"] = xxx * xxx\n",
    "\n",
    "    l1 = [xxx, xxx, 10, 10]\n",
    "    l2 =[xxx, 10, xxx, 10]\n",
    "    l3 =[xxx, 10, 10, xxx]\n",
    "    l4 =[10, xxx, 10, xxx]\n",
    "    l5 =[10, 10, xxx, xxx]\n",
    "    l6 =[10, xxx, xxx, 10]\n",
    "    l6_new =[100, xxx, xxx, 100]\n",
    "    l7 = [xxx/1.1, xxx/1.1, xxx/1.1, xxx/1.1]\n",
    "    temp[\"bbox\"] = l6_new #100, width[i]-100, 100, height[i]-100\n",
    "    temp[\"category_id\"] = 1\n",
    "    temp[\"id\"] = int( list( bench_dict.keys() )[i])\n",
    "    json_dict[\"annotations\"].append(temp)"
   ]
  },
  {
   "cell_type": "code",
   "execution_count": 90,
   "metadata": {},
   "outputs": [],
   "source": [
    "json_object = json.dumps(json_dict, indent=4)"
   ]
  },
  {
   "cell_type": "code",
   "execution_count": 91,
   "metadata": {},
   "outputs": [],
   "source": [
    "with open(\"C:\\\\Users\\\\amart50\\\\Desktop\\\\bench_annotations.json\", \"w\") as outfile:\n",
    "    json.dump(json_dict, outfile, indent=4)"
   ]
  },
  {
   "cell_type": "code",
   "execution_count": 92,
   "metadata": {},
   "outputs": [],
   "source": [
    "# # renaming the file names to padded names\n",
    "# # return all files as a list\n",
    "# for file in os.listdir(path_bench):\n",
    "#      # check the files which are end with specific extension\n",
    "#     if file.endswith(\".jpg\"):\n",
    "#         # print path name of selected files\n",
    "#         file_path = os.path.join(path_bench, file)\n",
    "#         # print(file_path)\n",
    "#         im = Image.open(file_path)\n",
    "#         new_name = file.split(\".\")[0] \n",
    "#         new_name = new_name.rjust(12,'0')\n",
    "#         new_name = new_name + \".jpg\"\n",
    "#         # im.save(new_name)\n",
    "#         Image.open(file_path).convert('RGB').save(path_bench+\"\\\\\"+new_name)\n",
    "#         print(im)"
   ]
  },
  {
   "cell_type": "code",
   "execution_count": null,
   "metadata": {},
   "outputs": [],
   "source": []
  },
  {
   "cell_type": "code",
   "execution_count": null,
   "metadata": {},
   "outputs": [],
   "source": []
  }
 ],
 "metadata": {
  "kernelspec": {
   "display_name": "Python 3.9.12 ('base')",
   "language": "python",
   "name": "python3"
  },
  "language_info": {
   "codemirror_mode": {
    "name": "ipython",
    "version": 3
   },
   "file_extension": ".py",
   "mimetype": "text/x-python",
   "name": "python",
   "nbconvert_exporter": "python",
   "pygments_lexer": "ipython3",
   "version": "3.9.12"
  },
  "orig_nbformat": 4,
  "vscode": {
   "interpreter": {
    "hash": "ad2bdc8ecc057115af97d19610ffacc2b4e99fae6737bb82f5d7fb13d2f2c186"
   }
  }
 },
 "nbformat": 4,
 "nbformat_minor": 2
}
